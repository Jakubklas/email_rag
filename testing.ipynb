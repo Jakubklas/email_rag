{
 "cells": [
  {
   "cell_type": "code",
   "execution_count": 1,
   "id": "e7c3b065",
   "metadata": {},
   "outputs": [],
   "source": [
    "import os\n",
    "import json\n",
    "from opensearchpy import OpenSearch, RequestsHttpConnection, helpers\n",
    "from opensearchpy.exceptions import TransportError, ConnectionError as OSCxnError\n",
    "\n",
    "import boto3\n",
    "from requests_aws4auth import AWS4Auth\n",
    "from openai import OpenAI, OpenAIError\n",
    "from config import *\n",
    "import time\n",
    "import logging\n",
    "\n",
    "from email import message_from_string\n",
    "from email import policy\n",
    "from email.utils import make_msgid\n",
    "from src.services.data_extraction import fast_stream_first_n\n",
    "from src.services.querying import *\n"
   ]
  },
  {
   "cell_type": "code",
   "execution_count": 2,
   "id": "160ebcc0",
   "metadata": {},
   "outputs": [],
   "source": [
    "retrieved_ids = []\n",
    "memory = None"
   ]
  },
  {
   "cell_type": "code",
   "execution_count": 3,
   "id": "de37056a",
   "metadata": {},
   "outputs": [],
   "source": [
    "# hits, ids = knn_search(query, retrieved_ids)\n",
    "\n",
    "# print(\"Newly Retrieved IDs:\")\n",
    "# for i in hits:\n",
    "#     print(f\"Subject: {i[\"_source\"][\"subject\"]}\")\n",
    "#     print(f\"Body: {i[\"_source\"][\"summary_text\"][:50]}\")\n",
    "#     print()\n",
    "\n",
    "# print(\"\\nExcluded IDs:\")\n",
    "# for i in retrieved_ids:\n",
    "#     print(i)\n",
    "\n",
    "# retrieved_ids.extend(ids)"
   ]
  },
  {
   "cell_type": "code",
   "execution_count": 14,
   "id": "0ed1698b",
   "metadata": {},
   "outputs": [],
   "source": [
    "query = \"Tell me about both of them. What do they do?\"\n",
    "\n",
    "\n",
    "prompt, response, memory, retrieved_ids = answer_query(query, memory, retrieved_ids)"
   ]
  },
  {
   "cell_type": "code",
   "execution_count": 16,
   "id": "373c5f52",
   "metadata": {},
   "outputs": [
    {
     "name": "stdout",
     "output_type": "stream",
     "text": [
      "Based on the information available to me, here is a summary of the roles and responsibilities of Sarah Hawkins and Abdul Sissi:\n",
      "\n",
      "**Sarah Hawkins:**\n",
      "Sarah Hawkins is the Import & Export Clerk at Redcoat Express. Her role involves coordinating shipment bookings and ensuring compliance with regulations, particularly those concerning hazardous and restricted articles. She is responsible for communicating with external partners such as shipping companies and airlines to facilitate logistics operations. Her tasks include addressing rate inquiries, managing booking details, and proactively resolving potential issues related to allotments that might affect the booking process. Her attention to detail and proactive approach are crucial for efficient cargo handling at Redcoat Express (Abdul Sissi and Sarah Hawkins, \"Booking Details for this Week,\" May 2025; Sarah Hawkins and Lufthansa Cargo, \"Rate LHR - FNA 020-65655391,\" April 2025).\n",
      "\n",
      "**Abdul Sissi:**\n",
      "Abdul Sissi is associated with Alie Baba Shipping Ltd, a company that collaborates with Redcoat Express for shipment bookings. While specific details about his role are not provided in the emails, it can be inferred that he is involved in coordinating shipment details and ensuring compliance with relevant shipping regulations, working closely with Sarah Hawkins to facilitate the logistics process (Abdul Sissi and Sarah Hawkins, \"Booking Details for this Week,\" May 2025).\n",
      "\n",
      "If you need more detailed information about their specific duties or interactions, please let me know.\n"
     ]
    }
   ],
   "source": [
    "memory = memory\n",
    "retrieved_ids.extend(retrieved_ids)\n",
    "\n",
    "print(response)"
   ]
  },
  {
   "cell_type": "code",
   "execution_count": null,
   "id": "d32a337d",
   "metadata": {},
   "outputs": [],
   "source": []
  }
 ],
 "metadata": {
  "kernelspec": {
   "display_name": "Python 3",
   "language": "python",
   "name": "python3"
  },
  "language_info": {
   "codemirror_mode": {
    "name": "ipython",
    "version": 3
   },
   "file_extension": ".py",
   "mimetype": "text/x-python",
   "name": "python",
   "nbconvert_exporter": "python",
   "pygments_lexer": "ipython3",
   "version": "3.13.3"
  }
 },
 "nbformat": 4,
 "nbformat_minor": 5
}
