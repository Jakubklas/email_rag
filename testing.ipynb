{
 "cells": [
  {
   "cell_type": "code",
   "execution_count": 53,
   "id": "e7c3b065",
   "metadata": {},
   "outputs": [],
   "source": [
    "import os\n",
    "import json\n",
    "from opensearchpy import OpenSearch, RequestsHttpConnection, helpers\n",
    "import boto3\n",
    "from requests_aws4auth import AWS4Auth\n",
    "from config import *"
   ]
  },
  {
   "cell_type": "code",
   "execution_count": 54,
   "id": "df78fbeb",
   "metadata": {},
   "outputs": [],
   "source": [
    "# ─── Configuration ──────────────────────────────────────────────────────────────\n",
    "DOMAIN = \"search-redcoat-express-wvba3hxtx72luhtzgh7tb56k4i.aos.eu-north-1.on.aws\"\n",
    "REGION = \"eu-north-1\"\n",
    "INDEX  = \"redcoat-express\"\n",
    "MASTER_USER        = \"admin\"              # the internal username you configured\n",
    "MASTER_PASSWORD    = \"ASINnumber1!\" # the password you set\n",
    "\n",
    "DATA_DIRS = [email_chunks_dir, attachment_chunks_dir, thread_documents_dir]"
   ]
  },
  {
   "cell_type": "markdown",
   "id": "f417bedb",
   "metadata": {},
   "source": [
    "Access over IAM (Switched Off)"
   ]
  },
  {
   "cell_type": "code",
   "execution_count": null,
   "id": "38ef96f3",
   "metadata": {},
   "outputs": [],
   "source": [
    "# # Creating a session for a specific local user \"rag-admin-user\"\n",
    "# session = boto3.Session(profile_name=\"rag-admin-user\")\n",
    "\n",
    "# # Accessing STS to assume the role with the right permissions\"\n",
    "# sts = session.client(\"sts\")\n",
    "# response = sts.assume_role(\n",
    "#     RoleArn=\"arn:aws:iam::169189304433:role/RedcoatExpressRagAdmin\",\n",
    "#     RoleSessionName=\"OpenSearchUpload\"\n",
    "# )\n",
    "\n",
    "# # Extracting credentials from the session\n",
    "# credentials = response[\"Credentials\"]\n",
    "\n",
    "# # Passing credentials to AWSAUTH so we can authenticate to OpenSearch\n",
    "# awsauth = AWS4Auth(\n",
    "#     credentials[\"AccessKeyId\"],\n",
    "#     credentials[\"SecretAccessKey\"],\n",
    "#     REGION,\n",
    "#     \"es\",\n",
    "#     session_token=credentials[\"SessionToken\"]\n",
    "# )\n",
    "\n",
    "# # Creating OpenSearch client with A.) my created OpenSearch domain and B.) my AWSAUTH credentials\n",
    "# client = OpenSearch(\n",
    "#     hosts=[{\"host\": DOMAIN, \"port\": 443}],\n",
    "#     http_auth=awsauth,\n",
    "#     use_ssl=True,\n",
    "#     verify_certs=True,\n",
    "#     connection_class=RequestsHttpConnection\n",
    "# )\n",
    "\n",
    "# # Testing connection:\n",
    "# print(client.cat.indices(format=\"json\"))"
   ]
  },
  {
   "cell_type": "markdown",
   "id": "9b15542c",
   "metadata": {},
   "source": [
    "Access over OpenSearch Master User"
   ]
  },
  {
   "cell_type": "code",
   "execution_count": 55,
   "id": "611292ce",
   "metadata": {},
   "outputs": [
    {
     "name": "stdout",
     "output_type": "stream",
     "text": [
      "[{'health': 'green', 'status': 'open', 'index': 'otel-v1-apm-service-map-sample', 'uuid': 'InKqxx9zRB-xtgzA46VoUQ', 'pri': '1', 'rep': '2', 'docs.count': '49', 'docs.deleted': '0', 'store.size': '52.9kb', 'pri.store.size': '17.6kb'}, {'health': 'green', 'status': 'open', 'index': '.plugins-ml-model-group', 'uuid': 'GK4aZPJnTUGosjC69CfIyQ', 'pri': '1', 'rep': '2', 'docs.count': '0', 'docs.deleted': '0', 'store.size': '11.2kb', 'pri.store.size': '228b'}, {'health': 'green', 'status': 'open', 'index': '.opensearch-observability', 'uuid': '45kj-BwKTZq0vUu1ps6F3w', 'pri': '1', 'rep': '2', 'docs.count': '0', 'docs.deleted': '0', 'store.size': '624b', 'pri.store.size': '208b'}, {'health': 'green', 'status': 'open', 'index': '.plugins-ml-config', 'uuid': 'Jk7L7STERNqoQw-xVoENRw', 'pri': '1', 'rep': '2', 'docs.count': '1', 'docs.deleted': '0', 'store.size': '11.8kb', 'pri.store.size': '3.9kb'}, {'health': 'green', 'status': 'open', 'index': 'otel-v1-apm-span-sample', 'uuid': 'd8hxfImBTbG9YDzanqYMqw', 'pri': '1', 'rep': '2', 'docs.count': '13061', 'docs.deleted': '0', 'store.size': '19.1mb', 'pri.store.size': '6.8mb'}, {'health': 'green', 'status': 'open', 'index': '.ql-datasources', 'uuid': 'V3GjK4CEQyec3Rfj7bBtKA', 'pri': '1', 'rep': '2', 'docs.count': '0', 'docs.deleted': '0', 'store.size': '624b', 'pri.store.size': '208b'}, {'health': 'green', 'status': 'open', 'index': '.plugins-ml-task', 'uuid': '0w6Ft34mQd-KiWX2lKXfmQ', 'pri': '1', 'rep': '2', 'docs.count': '1', 'docs.deleted': '0', 'store.size': '17.5kb', 'pri.store.size': '5.8kb'}, {'health': 'green', 'status': 'open', 'index': 'ss4o_metrics-otel-sample', 'uuid': 'Wy0-n8n6RdeHgrFGVEQRbQ', 'pri': '1', 'rep': '2', 'docs.count': '39923', 'docs.deleted': '0', 'store.size': '15.4mb', 'pri.store.size': '5.2mb'}, {'health': 'green', 'status': 'open', 'index': '.opendistro_security', 'uuid': 'yVK1YEV8S9GIe_qg-ukALA', 'pri': '1', 'rep': '2', 'docs.count': '10', 'docs.deleted': '5', 'store.size': '200.2kb', 'pri.store.size': '87.4kb'}, {'health': 'green', 'status': 'open', 'index': '.kibana_1', 'uuid': 'ChLGQwXjRZCgq0es-o7-dA', 'pri': '1', 'rep': '2', 'docs.count': '2', 'docs.deleted': '0', 'store.size': '37.4kb', 'pri.store.size': '5.8kb'}, {'health': 'green', 'status': 'open', 'index': 'ss4o_logs-otel-sample', 'uuid': 'A-MlbcXgRMm3zKiyWSOqUw', 'pri': '1', 'rep': '2', 'docs.count': '16286', 'docs.deleted': '0', 'store.size': '17.5mb', 'pri.store.size': '5.6mb'}]\n"
     ]
    }
   ],
   "source": [
    "\n",
    "client = OpenSearch(\n",
    "    hosts=[{\"host\": DOMAIN, \"port\": 443}],\n",
    "    http_auth=(MASTER_USER, MASTER_PASSWORD),\n",
    "    use_ssl=True,\n",
    "    verify_certs=True,\n",
    "    connection_class=RequestsHttpConnection\n",
    ")\n",
    "\n",
    "# Test it:\n",
    "print(client.cat.indices(format=\"json\"))"
   ]
  },
  {
   "cell_type": "code",
   "execution_count": null,
   "id": "2c4e2387",
   "metadata": {},
   "outputs": [
    {
     "ename": "AuthorizationException",
     "evalue": "AuthorizationException(403, 'security_exception', 'no permissions for [indices:monitor/settings/get] and User [name=arn:aws:iam::169189304433:role/RedcoatExpressRagAdmin, backend_roles=[arn:aws:iam::169189304433:role/RedcoatExpressRagAdmin], requestedTenant=null]')",
     "output_type": "error",
     "traceback": [
      "\u001b[1;31m---------------------------------------------------------------------------\u001b[0m",
      "\u001b[1;31mAuthorizationException\u001b[0m                    Traceback (most recent call last)",
      "Cell \u001b[1;32mIn[49], line 33\u001b[0m\n\u001b[0;32m     24\u001b[0m client \u001b[38;5;241m=\u001b[39m OpenSearch(\n\u001b[0;32m     25\u001b[0m     hosts\u001b[38;5;241m=\u001b[39m[{\u001b[38;5;124m\"\u001b[39m\u001b[38;5;124mhost\u001b[39m\u001b[38;5;124m\"\u001b[39m: DOMAIN, \u001b[38;5;124m\"\u001b[39m\u001b[38;5;124mport\u001b[39m\u001b[38;5;124m\"\u001b[39m: \u001b[38;5;241m443\u001b[39m}],\n\u001b[0;32m     26\u001b[0m     http_auth\u001b[38;5;241m=\u001b[39mawsauth,\n\u001b[1;32m   (...)\u001b[0m\n\u001b[0;32m     29\u001b[0m     connection_class\u001b[38;5;241m=\u001b[39mRequestsHttpConnection\n\u001b[0;32m     30\u001b[0m )\n\u001b[0;32m     32\u001b[0m \u001b[38;5;66;03m# Testing connection:\u001b[39;00m\n\u001b[1;32m---> 33\u001b[0m \u001b[38;5;28mprint\u001b[39m(\u001b[43mclient\u001b[49m\u001b[38;5;241;43m.\u001b[39;49m\u001b[43mcat\u001b[49m\u001b[38;5;241;43m.\u001b[39;49m\u001b[43mindices\u001b[49m\u001b[43m(\u001b[49m\u001b[38;5;28;43mformat\u001b[39;49m\u001b[38;5;241;43m=\u001b[39;49m\u001b[38;5;124;43m\"\u001b[39;49m\u001b[38;5;124;43mjson\u001b[39;49m\u001b[38;5;124;43m\"\u001b[39;49m\u001b[43m)\u001b[49m)\n",
      "File \u001b[1;32m~\\AppData\\Local\\Packages\\PythonSoftwareFoundation.Python.3.13_qbz5n2kfra8p0\\LocalCache\\local-packages\\Python313\\site-packages\\opensearchpy\\client\\utils.py:176\u001b[0m, in \u001b[0;36mquery_params.<locals>._wrapper.<locals>._wrapped\u001b[1;34m(*args, **kwargs)\u001b[0m\n\u001b[0;32m    173\u001b[0m         \u001b[38;5;28;01mif\u001b[39;00m v \u001b[38;5;129;01mis\u001b[39;00m \u001b[38;5;129;01mnot\u001b[39;00m \u001b[38;5;28;01mNone\u001b[39;00m:\n\u001b[0;32m    174\u001b[0m             params[p] \u001b[38;5;241m=\u001b[39m _escape(v)\n\u001b[1;32m--> 176\u001b[0m \u001b[38;5;28;01mreturn\u001b[39;00m \u001b[43mfunc\u001b[49m\u001b[43m(\u001b[49m\u001b[38;5;241;43m*\u001b[39;49m\u001b[43margs\u001b[49m\u001b[43m,\u001b[49m\u001b[43m \u001b[49m\u001b[43mparams\u001b[49m\u001b[38;5;241;43m=\u001b[39;49m\u001b[43mparams\u001b[49m\u001b[43m,\u001b[49m\u001b[43m \u001b[49m\u001b[43mheaders\u001b[49m\u001b[38;5;241;43m=\u001b[39;49m\u001b[43mheaders\u001b[49m\u001b[43m,\u001b[49m\u001b[43m \u001b[49m\u001b[38;5;241;43m*\u001b[39;49m\u001b[38;5;241;43m*\u001b[39;49m\u001b[43mkwargs\u001b[49m\u001b[43m)\u001b[49m\n",
      "File \u001b[1;32m~\\AppData\\Local\\Packages\\PythonSoftwareFoundation.Python.3.13_qbz5n2kfra8p0\\LocalCache\\local-packages\\Python313\\site-packages\\opensearchpy\\client\\cat.py:526\u001b[0m, in \u001b[0;36mCatClient.indices\u001b[1;34m(self, index, params, headers)\u001b[0m\n\u001b[0;32m    450\u001b[0m \u001b[38;5;129m@query_params\u001b[39m(\n\u001b[0;32m    451\u001b[0m     \u001b[38;5;124m\"\u001b[39m\u001b[38;5;124mbytes\u001b[39m\u001b[38;5;124m\"\u001b[39m,\n\u001b[0;32m    452\u001b[0m     \u001b[38;5;124m\"\u001b[39m\u001b[38;5;124mcluster_manager_timeout\u001b[39m\u001b[38;5;124m\"\u001b[39m,\n\u001b[1;32m   (...)\u001b[0m\n\u001b[0;32m    475\u001b[0m     headers: Any \u001b[38;5;241m=\u001b[39m \u001b[38;5;28;01mNone\u001b[39;00m,\n\u001b[0;32m    476\u001b[0m ) \u001b[38;5;241m-\u001b[39m\u001b[38;5;241m>\u001b[39m Any:\n\u001b[0;32m    477\u001b[0m \u001b[38;5;250m    \u001b[39m\u001b[38;5;124;03m\"\"\"\u001b[39;00m\n\u001b[0;32m    478\u001b[0m \u001b[38;5;124;03m    Returns information about indexes: number of primaries and replicas, document\u001b[39;00m\n\u001b[0;32m    479\u001b[0m \u001b[38;5;124;03m    counts, disk size, ...\u001b[39;00m\n\u001b[1;32m   (...)\u001b[0m\n\u001b[0;32m    524\u001b[0m \u001b[38;5;124;03m    :arg v: Verbose mode. Display column headers. Default is false.\u001b[39;00m\n\u001b[0;32m    525\u001b[0m \u001b[38;5;124;03m    \"\"\"\u001b[39;00m\n\u001b[1;32m--> 526\u001b[0m     \u001b[38;5;28;01mreturn\u001b[39;00m \u001b[38;5;28;43mself\u001b[39;49m\u001b[38;5;241;43m.\u001b[39;49m\u001b[43mtransport\u001b[49m\u001b[38;5;241;43m.\u001b[39;49m\u001b[43mperform_request\u001b[49m\u001b[43m(\u001b[49m\n\u001b[0;32m    527\u001b[0m \u001b[43m        \u001b[49m\u001b[38;5;124;43m\"\u001b[39;49m\u001b[38;5;124;43mGET\u001b[39;49m\u001b[38;5;124;43m\"\u001b[39;49m\u001b[43m,\u001b[49m\u001b[43m \u001b[49m\u001b[43m_make_path\u001b[49m\u001b[43m(\u001b[49m\u001b[38;5;124;43m\"\u001b[39;49m\u001b[38;5;124;43m_cat\u001b[39;49m\u001b[38;5;124;43m\"\u001b[39;49m\u001b[43m,\u001b[49m\u001b[43m \u001b[49m\u001b[38;5;124;43m\"\u001b[39;49m\u001b[38;5;124;43mindices\u001b[39;49m\u001b[38;5;124;43m\"\u001b[39;49m\u001b[43m,\u001b[49m\u001b[43m \u001b[49m\u001b[43mindex\u001b[49m\u001b[43m)\u001b[49m\u001b[43m,\u001b[49m\u001b[43m \u001b[49m\u001b[43mparams\u001b[49m\u001b[38;5;241;43m=\u001b[39;49m\u001b[43mparams\u001b[49m\u001b[43m,\u001b[49m\u001b[43m \u001b[49m\u001b[43mheaders\u001b[49m\u001b[38;5;241;43m=\u001b[39;49m\u001b[43mheaders\u001b[49m\n\u001b[0;32m    528\u001b[0m \u001b[43m    \u001b[49m\u001b[43m)\u001b[49m\n",
      "File \u001b[1;32m~\\AppData\\Local\\Packages\\PythonSoftwareFoundation.Python.3.13_qbz5n2kfra8p0\\LocalCache\\local-packages\\Python313\\site-packages\\opensearchpy\\transport.py:457\u001b[0m, in \u001b[0;36mTransport.perform_request\u001b[1;34m(self, method, url, params, body, timeout, ignore, headers)\u001b[0m\n\u001b[0;32m    455\u001b[0m             \u001b[38;5;28;01mraise\u001b[39;00m e\n\u001b[0;32m    456\u001b[0m     \u001b[38;5;28;01melse\u001b[39;00m:\n\u001b[1;32m--> 457\u001b[0m         \u001b[38;5;28;01mraise\u001b[39;00m e\n\u001b[0;32m    459\u001b[0m \u001b[38;5;28;01melse\u001b[39;00m:\n\u001b[0;32m    460\u001b[0m     \u001b[38;5;66;03m# connection didn't fail, confirm its live status\u001b[39;00m\n\u001b[0;32m    461\u001b[0m     \u001b[38;5;28mself\u001b[39m\u001b[38;5;241m.\u001b[39mconnection_pool\u001b[38;5;241m.\u001b[39mmark_live(connection)\n",
      "File \u001b[1;32m~\\AppData\\Local\\Packages\\PythonSoftwareFoundation.Python.3.13_qbz5n2kfra8p0\\LocalCache\\local-packages\\Python313\\site-packages\\opensearchpy\\transport.py:418\u001b[0m, in \u001b[0;36mTransport.perform_request\u001b[1;34m(self, method, url, params, body, timeout, ignore, headers)\u001b[0m\n\u001b[0;32m    415\u001b[0m connection \u001b[38;5;241m=\u001b[39m \u001b[38;5;28mself\u001b[39m\u001b[38;5;241m.\u001b[39mget_connection()\n\u001b[0;32m    417\u001b[0m \u001b[38;5;28;01mtry\u001b[39;00m:\n\u001b[1;32m--> 418\u001b[0m     status, headers_response, data \u001b[38;5;241m=\u001b[39m \u001b[43mconnection\u001b[49m\u001b[38;5;241;43m.\u001b[39;49m\u001b[43mperform_request\u001b[49m\u001b[43m(\u001b[49m\n\u001b[0;32m    419\u001b[0m \u001b[43m        \u001b[49m\u001b[43mmethod\u001b[49m\u001b[43m,\u001b[49m\n\u001b[0;32m    420\u001b[0m \u001b[43m        \u001b[49m\u001b[43murl\u001b[49m\u001b[43m,\u001b[49m\n\u001b[0;32m    421\u001b[0m \u001b[43m        \u001b[49m\u001b[43mparams\u001b[49m\u001b[43m,\u001b[49m\n\u001b[0;32m    422\u001b[0m \u001b[43m        \u001b[49m\u001b[43mbody\u001b[49m\u001b[43m,\u001b[49m\n\u001b[0;32m    423\u001b[0m \u001b[43m        \u001b[49m\u001b[43mheaders\u001b[49m\u001b[38;5;241;43m=\u001b[39;49m\u001b[43mheaders\u001b[49m\u001b[43m,\u001b[49m\n\u001b[0;32m    424\u001b[0m \u001b[43m        \u001b[49m\u001b[43mignore\u001b[49m\u001b[38;5;241;43m=\u001b[39;49m\u001b[43mignore\u001b[49m\u001b[43m,\u001b[49m\n\u001b[0;32m    425\u001b[0m \u001b[43m        \u001b[49m\u001b[43mtimeout\u001b[49m\u001b[38;5;241;43m=\u001b[39;49m\u001b[43mtimeout\u001b[49m\u001b[43m,\u001b[49m\n\u001b[0;32m    426\u001b[0m \u001b[43m    \u001b[49m\u001b[43m)\u001b[49m\n\u001b[0;32m    428\u001b[0m     \u001b[38;5;66;03m# Lowercase all the header names for consistency in accessing them.\u001b[39;00m\n\u001b[0;32m    429\u001b[0m     headers_response \u001b[38;5;241m=\u001b[39m {\n\u001b[0;32m    430\u001b[0m         header\u001b[38;5;241m.\u001b[39mlower(): value \u001b[38;5;28;01mfor\u001b[39;00m header, value \u001b[38;5;129;01min\u001b[39;00m headers_response\u001b[38;5;241m.\u001b[39mitems()\n\u001b[0;32m    431\u001b[0m     }\n",
      "File \u001b[1;32m~\\AppData\\Local\\Packages\\PythonSoftwareFoundation.Python.3.13_qbz5n2kfra8p0\\LocalCache\\local-packages\\Python313\\site-packages\\opensearchpy\\connection\\http_requests.py:238\u001b[0m, in \u001b[0;36mRequestsHttpConnection.perform_request\u001b[1;34m(self, method, url, params, body, timeout, allow_redirects, ignore, headers)\u001b[0m\n\u001b[0;32m    225\u001b[0m \u001b[38;5;28;01mif\u001b[39;00m (\n\u001b[0;32m    226\u001b[0m     \u001b[38;5;129;01mnot\u001b[39;00m (\u001b[38;5;241m200\u001b[39m \u001b[38;5;241m<\u001b[39m\u001b[38;5;241m=\u001b[39m response\u001b[38;5;241m.\u001b[39mstatus_code \u001b[38;5;241m<\u001b[39m \u001b[38;5;241m300\u001b[39m)\n\u001b[0;32m    227\u001b[0m     \u001b[38;5;129;01mand\u001b[39;00m response\u001b[38;5;241m.\u001b[39mstatus_code \u001b[38;5;129;01mnot\u001b[39;00m \u001b[38;5;129;01min\u001b[39;00m ignore\n\u001b[0;32m    228\u001b[0m ):\n\u001b[0;32m    229\u001b[0m     \u001b[38;5;28mself\u001b[39m\u001b[38;5;241m.\u001b[39mlog_request_fail(\n\u001b[0;32m    230\u001b[0m         method,\n\u001b[0;32m    231\u001b[0m         url,\n\u001b[1;32m   (...)\u001b[0m\n\u001b[0;32m    236\u001b[0m         raw_data,\n\u001b[0;32m    237\u001b[0m     )\n\u001b[1;32m--> 238\u001b[0m     \u001b[38;5;28;43mself\u001b[39;49m\u001b[38;5;241;43m.\u001b[39;49m\u001b[43m_raise_error\u001b[49m\u001b[43m(\u001b[49m\n\u001b[0;32m    239\u001b[0m \u001b[43m        \u001b[49m\u001b[43mresponse\u001b[49m\u001b[38;5;241;43m.\u001b[39;49m\u001b[43mstatus_code\u001b[49m\u001b[43m,\u001b[49m\n\u001b[0;32m    240\u001b[0m \u001b[43m        \u001b[49m\u001b[43mraw_data\u001b[49m\u001b[43m,\u001b[49m\n\u001b[0;32m    241\u001b[0m \u001b[43m        \u001b[49m\u001b[43mresponse\u001b[49m\u001b[38;5;241;43m.\u001b[39;49m\u001b[43mheaders\u001b[49m\u001b[38;5;241;43m.\u001b[39;49m\u001b[43mget\u001b[49m\u001b[43m(\u001b[49m\u001b[38;5;124;43m\"\u001b[39;49m\u001b[38;5;124;43mContent-Type\u001b[39;49m\u001b[38;5;124;43m\"\u001b[39;49m\u001b[43m)\u001b[49m\u001b[43m,\u001b[49m\n\u001b[0;32m    242\u001b[0m \u001b[43m    \u001b[49m\u001b[43m)\u001b[49m\n\u001b[0;32m    244\u001b[0m \u001b[38;5;28mself\u001b[39m\u001b[38;5;241m.\u001b[39mlog_request_success(\n\u001b[0;32m    245\u001b[0m     method,\n\u001b[0;32m    246\u001b[0m     url,\n\u001b[1;32m   (...)\u001b[0m\n\u001b[0;32m    251\u001b[0m     duration,\n\u001b[0;32m    252\u001b[0m )\n\u001b[0;32m    254\u001b[0m \u001b[38;5;28;01mreturn\u001b[39;00m response\u001b[38;5;241m.\u001b[39mstatus_code, response\u001b[38;5;241m.\u001b[39mheaders, raw_data\n",
      "File \u001b[1;32m~\\AppData\\Local\\Packages\\PythonSoftwareFoundation.Python.3.13_qbz5n2kfra8p0\\LocalCache\\local-packages\\Python313\\site-packages\\opensearchpy\\connection\\base.py:315\u001b[0m, in \u001b[0;36mConnection._raise_error\u001b[1;34m(self, status_code, raw_data, content_type)\u001b[0m\n\u001b[0;32m    312\u001b[0m \u001b[38;5;28;01mexcept\u001b[39;00m (\u001b[38;5;167;01mValueError\u001b[39;00m, \u001b[38;5;167;01mTypeError\u001b[39;00m) \u001b[38;5;28;01mas\u001b[39;00m err:\n\u001b[0;32m    313\u001b[0m     logger\u001b[38;5;241m.\u001b[39mwarning(\u001b[38;5;124m\"\u001b[39m\u001b[38;5;124mUndecodable raw error response from server: \u001b[39m\u001b[38;5;132;01m%s\u001b[39;00m\u001b[38;5;124m\"\u001b[39m, err)\n\u001b[1;32m--> 315\u001b[0m \u001b[38;5;28;01mraise\u001b[39;00m HTTP_EXCEPTIONS\u001b[38;5;241m.\u001b[39mget(status_code, TransportError)(\n\u001b[0;32m    316\u001b[0m     status_code, error_message, additional_info\n\u001b[0;32m    317\u001b[0m )\n",
      "\u001b[1;31mAuthorizationException\u001b[0m: AuthorizationException(403, 'security_exception', 'no permissions for [indices:monitor/settings/get] and User [name=arn:aws:iam::169189304433:role/RedcoatExpressRagAdmin, backend_roles=[arn:aws:iam::169189304433:role/RedcoatExpressRagAdmin], requestedTenant=null]')"
     ]
    }
   ],
   "source": []
  },
  {
   "cell_type": "code",
   "execution_count": null,
   "id": "cb8a69dc",
   "metadata": {},
   "outputs": [],
   "source": []
  }
 ],
 "metadata": {
  "kernelspec": {
   "display_name": "Python 3",
   "language": "python",
   "name": "python3"
  },
  "language_info": {
   "codemirror_mode": {
    "name": "ipython",
    "version": 3
   },
   "file_extension": ".py",
   "mimetype": "text/x-python",
   "name": "python",
   "nbconvert_exporter": "python",
   "pygments_lexer": "ipython3",
   "version": "3.13.3"
  }
 },
 "nbformat": 4,
 "nbformat_minor": 5
}
