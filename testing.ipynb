{
 "cells": [
  {
   "cell_type": "code",
   "execution_count": 203,
   "id": "e7c3b065",
   "metadata": {},
   "outputs": [],
   "source": [
    "import os\n",
    "import json\n",
    "from opensearchpy import OpenSearch, RequestsHttpConnection, helpers\n",
    "import boto3\n",
    "from requests_aws4auth import AWS4Auth\n",
    "from openai import OpenAI\n",
    "from config import *"
   ]
  },
  {
   "cell_type": "code",
   "execution_count": 204,
   "id": "df78fbeb",
   "metadata": {},
   "outputs": [],
   "source": [
    "# ─── Configuration ──────────────────────────────────────────────────────────────\n",
    "OPENSEARCH_ENDPOINT = \"search-redcoat-express-wvba3hxtx72luhtzgh7tb56k4i.aos.eu-north-1.on.aws\"\n",
    "INDEX_NAME  = \"redcoat-express\"\n",
    "AWS_REGION = \"eu-north-1\"\n",
    "\n",
    "MASTER_USER        = \"admin\"              # the internal username you configured\n",
    "MASTER_PASSWORD    = \"ASINnumber1!\"       # the password you set\n",
    "\n",
    "DATA_DIRS = [email_chunks_dir, attachment_chunks_dir, thread_documents_dir]"
   ]
  },
  {
   "cell_type": "markdown",
   "id": "f417bedb",
   "metadata": {},
   "source": [
    "Access over IAM (Switched Off)"
   ]
  },
  {
   "cell_type": "markdown",
   "id": "0fe309f2",
   "metadata": {},
   "source": []
  },
  {
   "cell_type": "code",
   "execution_count": 205,
   "id": "38ef96f3",
   "metadata": {},
   "outputs": [],
   "source": [
    "# # Creating a session for a specific local user \"rag-admin-user\"\n",
    "# session = boto3.Session(profile_name=\"rag-admin-user\")\n",
    "\n",
    "# # Accessing STS to assume the role with the right permissions\"\n",
    "# sts = session.client(\"sts\")\n",
    "# response = sts.assume_role(\n",
    "#     RoleArn=\"arn:aws:iam::169189304433:role/RedcoatExpressRagAdmin\",\n",
    "#     RoleSessionName=\"OpenSearchUpload\"\n",
    "# )\n",
    "\n",
    "# # Extracting credentials from the session\n",
    "# credentials = response[\"Credentials\"]\n",
    "\n",
    "# # Passing credentials to AWSAUTH so we can authenticate to OpenSearch\n",
    "# awsauth = AWS4Auth(\n",
    "#     credentials[\"AccessKeyId\"],\n",
    "#     credentials[\"SecretAccessKey\"],\n",
    "#     REGION,\n",
    "#     \"es\",\n",
    "#     session_token=credentials[\"SessionToken\"]\n",
    "# )\n",
    "\n",
    "# # Creating OpenSearch client with A.) my created OpenSearch domain and B.) my AWSAUTH credentials\n",
    "# client = OpenSearch(\n",
    "#     hosts=[{\"host\": DOMAIN, \"port\": 443}],\n",
    "#     http_auth=awsauth,\n",
    "#     use_ssl=True,\n",
    "#     verify_certs=True,\n",
    "#     connection_class=RequestsHttpConnection\n",
    "# )\n",
    "\n",
    "# # Testing connection:\n",
    "# print(client.cat.indices(format=\"json\"))"
   ]
  },
  {
   "cell_type": "markdown",
   "id": "9b15542c",
   "metadata": {},
   "source": [
    "Access over OpenSearch Master User"
   ]
  },
  {
   "cell_type": "code",
   "execution_count": null,
   "id": "611292ce",
   "metadata": {},
   "outputs": [
    {
     "name": "stdout",
     "output_type": "stream",
     "text": [
      "{'health': 'green', 'status': 'open', 'index': '.plugins-ml-model-group', 'uuid': 'GK4aZPJnTUGosjC69CfIyQ', 'pri': '1', 'rep': '2', 'docs.count': '0', 'docs.deleted': '0', 'store.size': '11.2kb', 'pri.store.size': '228b'}\n",
      "\n",
      "{'health': 'green', 'status': 'open', 'index': 'otel-v1-apm-service-map-sample', 'uuid': 'InKqxx9zRB-xtgzA46VoUQ', 'pri': '1', 'rep': '2', 'docs.count': '49', 'docs.deleted': '0', 'store.size': '52.9kb', 'pri.store.size': '17.6kb'}\n",
      "\n",
      "{'health': 'green', 'status': 'open', 'index': 'otel-v1-apm-span-sample', 'uuid': 'd8hxfImBTbG9YDzanqYMqw', 'pri': '1', 'rep': '2', 'docs.count': '13061', 'docs.deleted': '0', 'store.size': '19.1mb', 'pri.store.size': '6.8mb'}\n",
      "\n"
     ]
    }
   ],
   "source": [
    "\n",
    "# client = OpenSearch(\n",
    "#     hosts=[{\"host\": OPENSEARCH_ENDPOINT, \"port\": 443}],\n",
    "#     http_auth=(MASTER_USER, MASTER_PASSWORD),\n",
    "#     use_ssl=True,\n",
    "#     verify_certs=True,\n",
    "#     connection_class=RequestsHttpConnection\n",
    "# )\n",
    "\n",
    "# # Test it:\n",
    "# indecies = client.cat.indices(format=\"json\")\n",
    "# for i in indecies[:3]:\n",
    "#     print(i)\n",
    "#     print()\n"
   ]
  },
  {
   "cell_type": "markdown",
   "id": "b30324a2",
   "metadata": {},
   "source": [
    "Clean the existing Index if necessary"
   ]
  },
  {
   "cell_type": "code",
   "execution_count": null,
   "id": "4daa8cfe",
   "metadata": {},
   "outputs": [
    {
     "name": "stdout",
     "output_type": "stream",
     "text": [
      "[INFO] Deleted index 'redcoat-express'\n"
     ]
    }
   ],
   "source": [
    "# if client.indices.exists(INDEX_NAME):\n",
    "#     client.indices.delete(index=INDEX_NAME)\n",
    "#     print(f\"[INFO] Deleted index {INDEX_NAME!r}\")"
   ]
  },
  {
   "cell_type": "code",
   "execution_count": null,
   "id": "2c4e2387",
   "metadata": {},
   "outputs": [
    {
     "name": "stdout",
     "output_type": "stream",
     "text": [
      "[INFO] creating index 'redcoat-express'\n",
      "\n"
     ]
    }
   ],
   "source": [
    "# if not client.indices.exists(INDEX_NAME):\n",
    "#     print(f\"[INFO] creating index {INDEX_NAME!r}\")\n",
    "#     print()\n",
    "#     mapping = {\n",
    "#         \"settings\": {\"index\": {\"knn\": True}},\n",
    "#         \"mappings\": {\n",
    "#             \"dynamic\": True,\n",
    "#             \"properties\": {\n",
    "#                 \"doc_id\":      {\"type\": \"keyword\"},\n",
    "#                 \"thread_id\":   {\"type\": \"keyword\"},\n",
    "#                 \"message_id\":  {\"type\": \"keyword\"},\n",
    "#                 \"embedding\":   {\"type\": \"knn_vector\", \"dimension\": 1536},\n",
    "#                 \"type\":        {\"type\": \"keyword\"},\n",
    "#                 \"date\":        {\"type\": \"date\"},\n",
    "#                 \"subject\":     {\"type\": \"text\"},\n",
    "#                 \"chunk_text\":  {\"type\": \"text\"},\n",
    "#                 \"chunk_index\": {\"type\": \"integer\"},\n",
    "#                 \"filename\":    {\"type\": \"keyword\"},\n",
    "#                 \"summary_text\":{\"type\": \"text\"},\n",
    "#                 \"participants\":{\"type\": \"keyword\"}\n",
    "#             }\n",
    "#         }\n",
    "#     }\n",
    "#     client.indices.create(INDEX_NAME, body=mapping)"
   ]
  },
  {
   "cell_type": "markdown",
   "id": "5b8c3742",
   "metadata": {},
   "source": [
    "Uploading Emails to Index"
   ]
  },
  {
   "cell_type": "code",
   "execution_count": 198,
   "id": "cb8a69dc",
   "metadata": {},
   "outputs": [
    {
     "name": "stdout",
     "output_type": "stream",
     "text": [
      "[INFO] Documents ready to index\n",
      "Pulling data from: 'C:\\Users\\jklas\\email_processor\\email_rag\\data\\chunked_emails'\n",
      "\n",
      "[INFO] 0/363 uploaded -> 0.0%\n",
      "[INFO] 20/363 uploaded -> 6.0%\n",
      "[INFO] 40/363 uploaded -> 11.0%\n",
      "[INFO] 60/363 uploaded -> 17.0%\n",
      "[INFO] 80/363 uploaded -> 22.0%\n",
      "Pulling data from: 'C:\\Users\\jklas\\email_processor\\email_rag\\data\\chunked_attachments'\n",
      "\n",
      "[INFO] 100/363 uploaded -> 28.0%\n",
      "[INFO] 120/363 uploaded -> 33.0%\n",
      "[INFO] 140/363 uploaded -> 39.0%\n",
      "[INFO] 160/363 uploaded -> 44.0%\n",
      "[INFO] 180/363 uploaded -> 50.0%\n",
      "[INFO] 200/363 uploaded -> 55.0%\n",
      "[INFO] 220/363 uploaded -> 61.0%\n",
      "[INFO] 240/363 uploaded -> 66.0%\n",
      "[INFO] 260/363 uploaded -> 72.0%\n",
      "[INFO] 280/363 uploaded -> 77.0%\n",
      "Pulling data from: 'C:\\Users\\jklas\\email_processor\\email_rag\\data\\thread_documents'\n",
      "\n",
      "[INFO] 300/363 uploaded -> 83.0%\n",
      "[INFO] 320/363 uploaded -> 88.0%\n",
      "[INFO] 340/363 uploaded -> 94.0%\n",
      "[INFO] 360/363 uploaded -> 99.0%\n",
      "[DONE ] Finished indexing: 363/363 succeeded -> 100.0%\n",
      "Refreshing index...\n",
      "Index refreshed.\n"
     ]
    }
   ],
   "source": [
    "\n",
    "def actionas_generator():\n",
    "    for directory in DATA_DIRS:\n",
    "        print(f\"Pulling data from: '{directory}'\")\n",
    "        print()\n",
    "        for filename in os.listdir(directory):\n",
    "            if not filename.endswith(\".json\"):\n",
    "                continue\n",
    "            path = os.path.join(directory, filename)\n",
    "            with open(path, \"r\", encoding=\"utf-8\") as f:\n",
    "                doc = json.load(f)\n",
    "            yield {\n",
    "                \"_index\":  INDEX_NAME,\n",
    "                \"_id\":     doc.get(\"doc_id\", filename),\n",
    "                \"_source\": doc\n",
    "                }\n",
    "\n",
    "\n",
    "print(f\"[INFO] Documents ready to index\")\n",
    "total = 0\n",
    "for i in DATA_DIRS:\n",
    "    total += len(os.listdir(i))\n",
    "\n",
    "success = 0\n",
    "for idx, (ok, result) in enumerate(\n",
    "    helpers.streaming_bulk(\n",
    "        client,\n",
    "        actionas_generator(),\n",
    "        chunk_size=100,           # smaller batches\n",
    "        request_timeout=60,       # give it a minute per request\n",
    "        max_retries=2,\n",
    "        initial_backoff=2,\n",
    "        max_backoff=10,\n",
    "        yield_ok=True\n",
    "        )\n",
    "    ):\n",
    "    if ok:\n",
    "        success += 1\n",
    "    else:\n",
    "        # result looks like {\"index\": {\"_id\": \"...\", \"error\": {...}}}\n",
    "        print(f\"[ERROR] Doc #{idx} failed to index:\", result)\n",
    "\n",
    "    if idx % verbosity == 0:\n",
    "        print(f\"[INFO] {idx}/{total} uploaded -> {round(success/total*100, 0)}%\")\n",
    "\n",
    "print(f\"[DONE ] Finished indexing: {success}/{total} succeeded -> {round(success/total*100, 0)}%\")\n",
    "\n",
    "print(\"Refreshing index...\")\n",
    "client.indices.refresh(index=INDEX_NAME)\n",
    "\n",
    "print(\"Index refreshed.\")"
   ]
  },
  {
   "cell_type": "code",
   "execution_count": 199,
   "id": "604af978",
   "metadata": {},
   "outputs": [
    {
     "name": "stdout",
     "output_type": "stream",
     "text": [
      "Type buckets:\n",
      "  attachment  → 191 docs\n",
      "  email  → 120 docs\n",
      "  thread  → 52 docs\n"
     ]
    }
   ],
   "source": [
    "# Connect to OpenSearch\n",
    "client = OpenSearch(\n",
    "    hosts=[{\"host\": OPENSEARCH_ENDPOINT, \"port\": 443}],\n",
    "    http_auth=(MASTER_USER, MASTER_PASSWORD),\n",
    "    use_ssl=True,\n",
    "    verify_certs=True,\n",
    "    connection_class=RequestsHttpConnection\n",
    ")\n",
    "\n",
    "\n",
    "def inspect_index(client):\n",
    "    \n",
    "    # Searching the index w/ max 5 results\n",
    "    resp = client.search(\n",
    "        index=INDEX_NAME,\n",
    "        body={\n",
    "        \"size\": 0,\n",
    "        \"aggs\": {\n",
    "            \"types\": {\n",
    "            \"terms\": { \"field\": \"type\", \"size\": 5 }\n",
    "            }\n",
    "        }\n",
    "        }\n",
    "    )\n",
    "\n",
    "    print(\"Type buckets:\")\n",
    "    for bucket in resp[\"aggregations\"][\"types\"][\"buckets\"]:\n",
    "        print(f\"  {bucket['key']}  → {bucket['doc_count']} docs\")\n",
    "\n",
    "\n",
    "inspect_index(client)\n"
   ]
  },
  {
   "cell_type": "code",
   "execution_count": 201,
   "id": "56a4ffa8",
   "metadata": {},
   "outputs": [
    {
     "data": {
      "text/plain": [
       "'\\n── OPENSEARCH EXAMPLE ──────────────────────────────────────────────────────────\\n\\n{\\n  \"_index\": \"email_rag\",\\n  \"_id\":    \"thread123-0\",          // unique per chunk\\n  \"_source\": {\\n    \"doc_id\":      \"XXXXXX\",\\n    \"type\":        \"email\",\\n    \"thread_id\":   \"thread123\",\\n    \"message_id\":  \"msg-abc-001\",\\n    \"date\":        \"2025-05-12T09:39:48Z\",\\n    \"subject\":     \"Re: Please book collection for Thursday\",\\n    \"participants\":[\\n                    \"alice@example.com\",\\n                    \"bob@example.com\"\\n                   ],\\n    \"chunk_index\": 0,\\n    \"chunk_text\":  \"Great, thank you!\\n<END OF MESSAGE>\",\\n    \"embedding\":   [ -0.02526, 0.01429, … ]  // length 1536\\n  }\\n}\\n'"
      ]
     },
     "execution_count": 201,
     "metadata": {},
     "output_type": "execute_result"
    }
   ],
   "source": [
    "\"\"\"\n",
    "── OPENSEARCH DATA STRUCTURE ──────────────────────────────────────────────────────────\n",
    "\n",
    "{\n",
    "  \"settings\": {\n",
    "    \"index\": {\n",
    "      \"knn\": true                                       // k-NN plugin enabled\n",
    "    }\n",
    "  },\n",
    "  \"mappings\": {\n",
    "    \"dynamic\": true,                                   // allow extra fields beyond those listed\n",
    "    \"properties\": {\n",
    "      \"doc_id\":       { \"type\": \"keyword\"        },\n",
    "      \"thread_id\":    { \"type\": \"keyword\"        },\n",
    "      \"message_id\":   { \"type\": \"keyword\"        },\n",
    "      \"embedding\":    { \"type\": \"knn_vector\",\n",
    "                        \"dimension\": 1536       },     // embedding vector field\n",
    "      \"type\":         { \"type\": \"keyword\"        }, \n",
    "      \"date\":         { \"type\": \"date\"           },\n",
    "      \"subject\":      { \"type\": \"text\"           },\n",
    "      \"chunk_text\":   { \"type\": \"text\"           },\n",
    "      \"summary_text\": { \"type\": \"text\"           },\n",
    "      \"chunk_index\":  { \"type\": \"integer\"        },\n",
    "      \"filename\":     { \"type\": \"keyword\"        },\n",
    "      \"participants\": { \"type\": \"keyword\"        }\n",
    "    }\n",
    "  }\n",
    "}\n",
    "\"\"\"\n",
    "\n",
    "\"\"\"\n",
    "── OPENSEARCH EXAMPLE ──────────────────────────────────────────────────────────\n",
    "\n",
    "{\n",
    "  \"_index\": \"email_rag\",\n",
    "  \"_id\":    \"thread123-0\",          // unique per chunk\n",
    "  \"_source\": {\n",
    "    \"doc_id\":      \"XXXXXX\",\n",
    "    \"type\":        \"email\",\n",
    "    \"thread_id\":   \"thread123\",\n",
    "    \"message_id\":  \"msg-abc-001\",\n",
    "    \"date\":        \"2025-05-12T09:39:48Z\",\n",
    "    \"subject\":     \"Re: Please book collection for Thursday\",\n",
    "    \"participants\":[\n",
    "                    \"alice@example.com\",\n",
    "                    \"bob@example.com\"\n",
    "                   ],\n",
    "    \"chunk_index\": 0,\n",
    "    \"chunk_text\":  \"Great, thank you!\\n<END OF MESSAGE>\",\n",
    "    \"embedding\":   [ -0.02526, 0.01429, … ]  // length 1536\n",
    "  }\n",
    "}\n",
    "\"\"\""
   ]
  },
  {
   "cell_type": "code",
   "execution_count": 186,
   "id": "7d19d99b",
   "metadata": {},
   "outputs": [
    {
     "name": "stdout",
     "output_type": "stream",
     "text": [
      "{\n",
      "  \"type\": \"keyword\"\n",
      "}\n"
     ]
    }
   ],
   "source": [
    "mapping = client.indices.get_mapping(index=INDEX_NAME)\n",
    "print(json.dumps(mapping[INDEX_NAME][\"mappings\"][\"properties\"][\"type\"], indent=2))\n"
   ]
  },
  {
   "cell_type": "code",
   "execution_count": 214,
   "id": "32cbf964",
   "metadata": {},
   "outputs": [],
   "source": [
    "def keyword_search(text, field=\"summary_text\", size=5):\n",
    "    body = {\n",
    "      \"size\": size,\n",
    "      \"query\": { \"match\": { field: text }}\n",
    "    }\n",
    "    return client.search(index=INDEX_NAME, body=body)[\"hits\"][\"hits\"]\n",
    "\n",
    "def knn_search(query_text, size=5):\n",
    "    llm_client = OpenAI(api_key=SECRET_KEY)\n",
    "\n",
    "    q_vec = llm_client.embeddings.create(\n",
    "        model=\"text-embedding-ada-002\", input=query_text\n",
    "    ).data[0].embedding\n",
    "\n",
    "    body = {\n",
    "      \"size\": size,\n",
    "      \"query\": {\n",
    "        \"knn\": {\n",
    "          \"embedding\": { \"vector\": q_vec, \"k\": size }\n",
    "        }\n",
    "      }\n",
    "    }\n",
    "    return client.search(index=INDEX_NAME, body=body)[\"hits\"][\"hits\"]\n"
   ]
  },
  {
   "cell_type": "code",
   "execution_count": 216,
   "id": "eb9966a6",
   "metadata": {},
   "outputs": [
    {
     "name": "stdout",
     "output_type": "stream",
     "text": [
      "type: email\n",
      "from: Simon leadbeatter <simon.leadbeatter@redcoat.org.uk>\n",
      "to: Jason <jason.leadbeatter@redcoat.org.uk>\n",
      "cc: None\n",
      "date: 2025-05-12T08:33:52+00:00\n",
      "subject: Swissport Imports LHR.HCHImports@swissport.com\n",
      "message_id: cabgx6kfhqu8ctuwch2w=6no6q54d18osbqxdjfcnfuhhfumvsg@mail.gmail.com\n",
      "in_reply_to: \n",
      "references: []\n",
      "attachments: []\n",
      "links: {}\n",
      "participants: ['Simon leadbeatter <simon.leadbeatter@redcoat.org.uk>', 'Jason <jason.leadbeatter@redcoat.org.uk>']\n",
      "thread_id: cabgx6kfhqu8ctuwch2w=6no6q54d18osbqxdjfcnfuhhfumvsg@mail.gmail.com\n",
      "chunk_text: Simon Leadbeatter  Operations Manager  simon@redcoat.org.uk  +44 (0)1293 522440  +44 (0)7379 094298    Redcoat Express Ltd, Endeavour House, Maxwell Way, Crawley, West Sussex,  RH10 9SY\n",
      "<END OF MESSAGE>\n",
      "chunk_index: 0\n",
      "doc_id: email_00006_chunk_0\n"
     ]
    }
   ],
   "source": [
    "text = \"Who is the managing director of Redcoat?\"\n",
    "# search = keyword_search(text)[0][\"_source\"]\n",
    "search = knn_search(text)[0][\"_source\"]\n",
    "\n",
    "for i in search:\n",
    "    if i == \"embedding\":\n",
    "        continue\n",
    "    print(f\"{i}: {search[i]}\")"
   ]
  },
  {
   "cell_type": "code",
   "execution_count": null,
   "id": "993461f2",
   "metadata": {
    "vscode": {
     "languageId": "json"
    }
   },
   "outputs": [],
   "source": [
    "// {\n",
    "//     \"Version\": \"2012-10-17\",\n",
    "//     \"Statement\": [\n",
    "//         {\n",
    "//             \"Effect\": \"Allow\",\n",
    "//             \"Principal\": {\n",
    "//                 \"AWS\": \"arn:aws:iam::141472272439:role/Cradle_S3_Access_Role\"\n",
    "//             },\n",
    "//             \"Action\": [\n",
    "//                 \"s3:GetObjectAcl\",\n",
    "//                 \"s3:PutObject\",\n",
    "//                 \"s3:DeleteObject\"\n",
    "//             ],\n",
    "//             \"Resource\": \"arn:aws:s3:::uk-eoa-pipeline/*\"\n",
    "//         },\n",
    "//         {\n",
    "//             \"Effect\": \"Allow\",\n",
    "//             \"Principal\": {\n",
    "//                 \"AWS\": \"arn:aws:iam::141472272439:role/Cradle_S3_Access_Role\"\n",
    "//             },\n",
    "//             \"Action\": \"s3:ListBucket\",\n",
    "//             \"Resource\": \"arn:aws:s3:::uk-eoa-pipeline\"\n",
    "//         }\n",
    "//     ]\n",
    "// }"
   ]
  }
 ],
 "metadata": {
  "kernelspec": {
   "display_name": "Python 3",
   "language": "python",
   "name": "python3"
  },
  "language_info": {
   "codemirror_mode": {
    "name": "ipython",
    "version": 3
   },
   "file_extension": ".py",
   "mimetype": "text/x-python",
   "name": "python",
   "nbconvert_exporter": "python",
   "pygments_lexer": "ipython3",
   "version": "3.13.3"
  }
 },
 "nbformat": 4,
 "nbformat_minor": 5
}
