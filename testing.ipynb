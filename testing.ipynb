{
 "cells": [
  {
   "cell_type": "code",
   "execution_count": 7,
   "id": "e7c3b065",
   "metadata": {},
   "outputs": [],
   "source": [
    "\n",
    "from opensearchpy import OpenSearch, RequestsHttpConnection, helpers\n",
    "from opensearchpy.exceptions import TransportError, ConnectionError as OSCxnError\n",
    "\n",
    "from requests_aws4auth import AWS4Auth\n",
    "from openai import OpenAI, OpenAIError\n",
    "from config import *\n",
    "import time\n",
    "import logging\n",
    "\n",
    "from src.services.querying import llm_client, os_client, reconstruct_thread, answer_query, knn_search, Memory\n"
   ]
  },
  {
   "cell_type": "code",
   "execution_count": 8,
   "id": "7e9dbf9a",
   "metadata": {},
   "outputs": [],
   "source": [
    "# query = \"How much do we ususally charge for traspots for 'compassionate funerals'?\"\n",
    "\n",
    "# hits, ids, q_vec = knn_search(query)\n",
    "\n",
    "# for i , hit in enumerate(hits, start=1):\n",
    "#     print(f\"----Email thread {i}----\")\n",
    "#     print()\n",
    "#     print(f\"ID: {hit[\"_id\"]}\")\n",
    "#     print(f\"Score: {hit[\"_score\"]}\")\n",
    "#     print(f\"Subject: {hit[\"_source\"][\"subject\"]}\")\n",
    "#     print(f\"Summary: {hit[\"_source\"][\"summary_text\"]}\")\n",
    "#     print()"
   ]
  },
  {
   "cell_type": "code",
   "execution_count": 9,
   "id": "beea30f2",
   "metadata": {},
   "outputs": [],
   "source": [
    "retrieved_ids = []\n",
    "memory = Memory(\n",
    "    llm_client=llm_client,\n",
    "    os_client=os_client,\n",
    "    short_term_tokens=1000,\n",
    "    mid_term_turns=3,\n",
    "    memory_model=MEMORY_MODEL,\n",
    "    embeddings_model=EMBEDDINGS_MODEL\n",
    ")"
   ]
  },
  {
   "cell_type": "code",
   "execution_count": 10,
   "id": "821ab9ad",
   "metadata": {},
   "outputs": [
    {
     "name": "stdout",
     "output_type": "stream",
     "text": [
      "[answer_query] Turn 1 | mem_summary='' | last_snip=''\n",
      "[answer_query] Rewritten query: 'What is the cost of shipping HUM from the UK to Gambia for customers?'\n",
      "[answer_query] Calling knn_search with retrieved_ids=[]\n",
      "[answer_query] knn_search returned 5 hits | new retrieved_ids=['t_0000000000000f6e4e05f650738a@google.com', 't_ca+y-08ha7r1tdk-xgqmg0f5m8cwsyp_fcagn3pnf3-kwt92chq@mail.gmail.com', 't_loyp123mb3360bef838813d05fc9132c9beb49@loyp123mb3360.gbrp123.prod.outlook.com', 't_ca+y-08gxfhmzwffogfldoqdod6pzvwmifryhg8w1gwfu9k2erq@mail.gmail.com', 't_ca+y-08frxo+spqkjmzec8tbu-_wc04nv7qax7okmjce+ld_qaw@mail.gmail.com']\n",
      "[answer_query] Formatted thread_blocks length: 35070\n",
      "[answer_query] Retrieved long-term facts count: 0\n",
      "[answer_query] Built system_msgs with 3 messages\n",
      "[answer_query] Prompt tokens=11077 | selected_model=gpt-3.5-turbo-16k\n",
      "[answer_query] Sending request to OpenAI model gpt-3.5-turbo-16k...\n",
      "[answer_query] Received response (length=1251)\n",
      "[answer_query] Updated short-term and mid-term memory\n",
      "[answer_query] Launched background long-term memory update\n",
      "[answer_query] Completed and returning results\n"
     ]
    }
   ],
   "source": [
    "bank=[\n",
    " \"What how does Redcoat work with Lufthansa?\",\n",
    " \"Can you give specific examples?\",\n",
    " \"What are Lufthansa's rates to Africa?\",\n",
    " \"And what about other destinations, like US?\",\n",
    " \"Who is Simon and his role?\",\n",
    " \"How does he collaborate with Sarah Hawkins?\",\n",
    " \"Who else works there?\",\n",
    " \"If we were to compare US and African imports to the UK. How do they compare?\",\n",
    " \"Draft an SOP to import goods to the UK.\"\n",
    " ]\n",
    "\n",
    "#query = bank[-1]\n",
    "query = \"HOw much do we charge customer for HUM from UK to gambia\"\n",
    "retrieved_ids = []  \n",
    "\n",
    "prompt, response, mem_ctx, retrieved_ids, q_vec = answer_query(query, retrieved_ids=retrieved_ids, memory=memory)\n",
    "\n"
   ]
  },
  {
   "cell_type": "code",
   "execution_count": 11,
   "id": "c4e616f4",
   "metadata": {},
   "outputs": [
    {
     "name": "stdout",
     "output_type": "stream",
     "text": [
      "11077\n"
     ]
    }
   ],
   "source": [
    "import tiktoken\n",
    "\n",
    "enc = tiktoken.encoding_for_model(QUERY_MODEL)\n",
    "\n",
    "print(len(enc.encode(prompt)))"
   ]
  },
  {
   "cell_type": "code",
   "execution_count": 12,
   "id": "58d08336",
   "metadata": {},
   "outputs": [
    {
     "name": "stdout",
     "output_type": "stream",
     "text": [
      "Based on the email threads provided, the cost for shipping HUMs from Banjul to the UK on ZT was GBP1750.00. This cost was confirmed by Simon in response to Lloyd's email. The breakdown of the cost included GBP131250.00 if selling locally in Gambia. Additionally, for future UK payments, an invoice of GMD32812.50 for profit split was required.\n",
      "\n",
      "In a later email exchange, there was a discussion about the cost of sending HUMs on SN, with Mansour mentioning a cost of D178,692.00 based on 150 kgs. Lloyd suggested a selling cost of GBP1800.00 for the shipment. The conversation also involved coordinating billing details for shipments to Banjul and GAMEXP, with a profit-sharing arrangement. Lloyd mentioned charging GAMEXP GBP1800, leaving a profit of GBP900 to be split or kept based on a 50/50 split or a different arrangement.\n",
      "\n",
      "Simon inquired about billing Banjul for the shipment, suggesting putting the Airfreight sale as one line at GBP1200. Lloyd confirmed this approach, indicating it was fine.\n",
      "\n",
      "In summary, the initial cost for shipping HUMs from Banjul to the UK on ZT was GBP1750.00, with subsequent discussions involving adjustments to selling prices, profit splits, and billing details for shipments to different destinations like GAMEXP.\n"
     ]
    }
   ],
   "source": [
    "#print(response)\n",
    "print(response)"
   ]
  },
  {
   "cell_type": "markdown",
   "id": "c55fdebf",
   "metadata": {},
   "source": [
    "Conditional Retrieval"
   ]
  },
  {
   "cell_type": "code",
   "execution_count": null,
   "id": "d32a337d",
   "metadata": {},
   "outputs": [],
   "source": []
  },
  {
   "cell_type": "markdown",
   "id": "22b79f4d",
   "metadata": {},
   "source": [
    "Cooldown TLL"
   ]
  },
  {
   "cell_type": "code",
   "execution_count": null,
   "id": "cb0031ee",
   "metadata": {},
   "outputs": [],
   "source": []
  },
  {
   "cell_type": "markdown",
   "id": "f83e4fce",
   "metadata": {},
   "source": [
    "Freshness Boosting"
   ]
  },
  {
   "cell_type": "code",
   "execution_count": null,
   "id": "ffa573a1",
   "metadata": {},
   "outputs": [],
   "source": []
  },
  {
   "cell_type": "markdown",
   "id": "3742ea61",
   "metadata": {},
   "source": [
    "MRR (Penalizing documents which are too similar to what we already have)"
   ]
  },
  {
   "cell_type": "code",
   "execution_count": null,
   "id": "cfd3975d",
   "metadata": {},
   "outputs": [],
   "source": []
  },
  {
   "cell_type": "markdown",
   "id": "717389a5",
   "metadata": {},
   "source": [
    "Hierarchical Memory"
   ]
  },
  {
   "cell_type": "code",
   "execution_count": null,
   "id": "0bb2839f",
   "metadata": {},
   "outputs": [],
   "source": []
  },
  {
   "cell_type": "markdown",
   "id": "22294e94",
   "metadata": {},
   "source": []
  }
 ],
 "metadata": {
  "kernelspec": {
   "display_name": "Python 3",
   "language": "python",
   "name": "python3"
  },
  "language_info": {
   "codemirror_mode": {
    "name": "ipython",
    "version": 3
   },
   "file_extension": ".py",
   "mimetype": "text/x-python",
   "name": "python",
   "nbconvert_exporter": "python",
   "pygments_lexer": "ipython3",
   "version": "3.13.5"
  }
 },
 "nbformat": 4,
 "nbformat_minor": 5
}
