{
 "cells": [
  {
   "cell_type": "code",
   "execution_count": 1,
   "id": "e7c3b065",
   "metadata": {},
   "outputs": [],
   "source": [
    "\n",
    "from opensearchpy import OpenSearch, RequestsHttpConnection, helpers\n",
    "from opensearchpy.exceptions import TransportError, ConnectionError as OSCxnError\n",
    "\n",
    "from requests_aws4auth import AWS4Auth\n",
    "from openai import OpenAI, OpenAIError\n",
    "from config import *\n",
    "import time\n",
    "import logging\n",
    "\n",
    "from src.services.querying import llm_client, os_client, reconstruct_thread, answer_query, knn_search, Memory\n"
   ]
  },
  {
   "cell_type": "code",
   "execution_count": 2,
   "id": "7e9dbf9a",
   "metadata": {},
   "outputs": [
    {
     "name": "stdout",
     "output_type": "stream",
     "text": [
      "----Email thread 1----\n",
      "\n",
      "ID: t_autogen-java-a72b199e-9a80-4a1f-8135-c694957d734d@google.com\n",
      "Score: 0.7728374\n",
      "Subject: Redcoat Express Quotation\n",
      "Summary: The email thread involves a communication from Redcoat Express Ltd to Compassionate Funerals, providing a quotation for air freight services costing £1,000 based on a chargeable weight of 100 kg. The quote details the service, charges, and terms, with an indication that it is based on the information provided, and includes a request for acceptance and signatures.\n",
      "\n",
      "----Email thread 2----\n",
      "\n",
      "ID: t_cajraaq8den7akjznr1eyqmvabovylsnbat+-eh7b+7d=vsn5jw@mail.gmail.com\n",
      "Score: 0.7653014\n",
      "Subject: Flight to Banju\n",
      "Summary: Hasina requests quotes and scheduling details for next week, providing her contact information and background on Compassionate Funerals' services. She confirms a weight of 120kg for a shipment and later states the cost as GBP1600. The thread involves coordinating funeral-related arrangements, including timing, weight, and pricing.\n",
      "\n",
      "----Email thread 3----\n",
      "\n",
      "ID: t_autogen-java-5cd508c8-ef81-42aa-a62f-2262105fb6c2@google.com\n",
      "Score: 0.7477229\n",
      "Subject: Redcoat Express Quotation\n",
      "Summary: The email thread involves a request from Compassionate Funerals for a quotation to transport a body from Banjul to the UK. Redcoat Express Ltd provided a detailed air freight quote of £1,650, covering airport-to-airport service with handling and customs charges to be paid by the consignee. The quote is based on the provided details, and acceptance or further instructions are implied.\n",
      "\n",
      "----Email thread 4----\n",
      "\n",
      "ID: t_cabgx6kd5fr-ben7xttlcevzdwlrqfc=qjoe1yquo5fqrrbuuow@mail.gmail.com\n",
      "Score: 0.7451814\n",
      "Subject: HUM 160KG - ZT FOR FRIDAY??\n",
      "Summary: Simon Leadbeatter from Redcoat Express Ltd informed that Compassionate Funerals requested to send a hum via Friday's flight, estimated to weigh 150-170kg. The email serves as a communication about the shipment request.\n",
      "\n",
      "----Email thread 5----\n",
      "\n",
      "ID: t_2d8cef28-f176-467d-a5a1-c5e94881553b@mtasv.net\n",
      "Score: 0.74461263\n",
      "Subject: RGB2400595 referenced invoice\n",
      "Summary: The email from Redcoat Express Ltd includes an attached freight invoice addressed to Compassionate Funerals for shipping remains from Heathrow to Banjul, totaling £1,850 for air freight. The invoice details the shipment, charges, and payment information, with a due date of October 31, 2024. The correspondence appears to be a standard billing notification confirming the transaction.\n",
      "\n"
     ]
    }
   ],
   "source": [
    "query = \"How much do we ususally charge for traspots for 'compassionate funerals'?\"\n",
    "\n",
    "hits, ids, q_vec = knn_search(query)\n",
    "\n",
    "for i , hit in enumerate(hits, start=1):\n",
    "    print(f\"----Email thread {i}----\")\n",
    "    print()\n",
    "    print(f\"ID: {hit[\"_id\"]}\")\n",
    "    print(f\"Score: {hit[\"_score\"]}\")\n",
    "    print(f\"Subject: {hit[\"_source\"][\"subject\"]}\")\n",
    "    print(f\"Summary: {hit[\"_source\"][\"summary_text\"]}\")\n",
    "    print()"
   ]
  },
  {
   "cell_type": "code",
   "execution_count": 3,
   "id": "beea30f2",
   "metadata": {},
   "outputs": [],
   "source": [
    "retrieved_ids = []\n",
    "memory = Memory(\n",
    "    llm_client=llm_client,\n",
    "    os_client=os_client,\n",
    "    short_term_tokens=1000,\n",
    "    mid_term_turns=3,\n",
    "    memory_model=MEMORY_MODEL,\n",
    "    embeddings_model=EMBEDDINGS_MODEL\n",
    ")"
   ]
  },
  {
   "cell_type": "code",
   "execution_count": 21,
   "id": "821ab9ad",
   "metadata": {},
   "outputs": [
    {
     "name": "stdout",
     "output_type": "stream",
     "text": [
      "\n",
      "----Rewritted query-----\n",
      " What are the typical charges for transporting cargo for \"compassionate funerals\"? \n",
      "----Rewritted query-----\n",
      " \n"
     ]
    }
   ],
   "source": [
    "bank=[\n",
    " \"What how does Redcoat work with Lufthansa?\",\n",
    " \"Can you give specific examples?\",\n",
    " \"What are Lufthansa's rates to Africa?\",\n",
    " \"And what about other destinations, like US?\",\n",
    " \"Who is Simon and his role?\",\n",
    " \"How does he collaborate with Sarah Hawkins?\",\n",
    " \"If we were to compare US and African imports to the UK. How do they compare?\"\n",
    " \"Draft an SOP to import goods to the UK.\"\n",
    " ]\n",
    "\n",
    "query = query = \"How much do we ususally charge for traspots for 'compassionate funerals'?\" #bank[2]\n",
    "retrieved_ids = []  \n",
    "\n",
    "prompt, response, mem_ctx, retrieved_ids, q_vec = answer_query(query, retrieved_ids=retrieved_ids, memory=memory)\n",
    "\n"
   ]
  },
  {
   "cell_type": "code",
   "execution_count": 22,
   "id": "c4e616f4",
   "metadata": {},
   "outputs": [
    {
     "name": "stdout",
     "output_type": "stream",
     "text": [
      "2785\n"
     ]
    }
   ],
   "source": [
    "import tiktoken\n",
    "\n",
    "enc = tiktoken.encoding_for_model(QUERY_MODEL)\n",
    "\n",
    "print(len(enc.encode(prompt)))"
   ]
  },
  {
   "cell_type": "code",
   "execution_count": 23,
   "id": "58d08336",
   "metadata": {},
   "outputs": [
    {
     "name": "stdout",
     "output_type": "stream",
     "text": [
      "Based on the information provided in the email threads, Redcoat Express Ltd usually charges around £10.00 per kilogram for air freight services for \"compassionate funerals.\" Here are some specific examples:\n",
      "\n",
      "1. In an email dated November 2, 2023, Redcoat Express Ltd provided a quotation to Compassionate Funerals for air freight services with a chargeable weight of 100 kg, costing £1,000. This indicates a rate of £10.00 per kilogram (£1,000 total cost for 100 kg).\n",
      "\n",
      "2. In another email dated April 8, 2022, Compassionate Funerals requested a quote for transporting 120 kg of cargo, to which Redcoat Express Ltd responded with a cost of GBP1600. This aligns with the approximate rate of £10.00 per kilogram (£1,600 total cost for 120 kg).\n",
      "\n",
      "3. Additionally, in a separate email dated May 7, 2024, Redcoat Express Ltd provided a detailed air freight quote of £1,650 for transporting 120 kg of cargo for Compassionate Funerals. This further supports the typical rate of around £10.00 per kilogram (£1,650 total cost for 120 kg).\n",
      "\n",
      "Therefore, based on these examples, it can be inferred that Redcoat Express Ltd usually charges approximately £10.00 per kilogram for air freight services for \"compassionate funerals.\"\n"
     ]
    }
   ],
   "source": [
    "print(response)"
   ]
  },
  {
   "cell_type": "markdown",
   "id": "c55fdebf",
   "metadata": {},
   "source": [
    "Conditional Retrieval"
   ]
  },
  {
   "cell_type": "code",
   "execution_count": null,
   "id": "d32a337d",
   "metadata": {},
   "outputs": [],
   "source": []
  },
  {
   "cell_type": "markdown",
   "id": "22b79f4d",
   "metadata": {},
   "source": [
    "Cooldown TLL"
   ]
  },
  {
   "cell_type": "code",
   "execution_count": null,
   "id": "cb0031ee",
   "metadata": {},
   "outputs": [],
   "source": []
  },
  {
   "cell_type": "markdown",
   "id": "f83e4fce",
   "metadata": {},
   "source": [
    "Freshness Boosting"
   ]
  },
  {
   "cell_type": "code",
   "execution_count": null,
   "id": "ffa573a1",
   "metadata": {},
   "outputs": [],
   "source": []
  },
  {
   "cell_type": "markdown",
   "id": "3742ea61",
   "metadata": {},
   "source": [
    "MRR (Penalizing documents which are too similar to what we already have)"
   ]
  },
  {
   "cell_type": "code",
   "execution_count": null,
   "id": "cfd3975d",
   "metadata": {},
   "outputs": [],
   "source": []
  },
  {
   "cell_type": "markdown",
   "id": "717389a5",
   "metadata": {},
   "source": [
    "Hierarchical Memory"
   ]
  },
  {
   "cell_type": "code",
   "execution_count": null,
   "id": "0bb2839f",
   "metadata": {},
   "outputs": [],
   "source": []
  },
  {
   "cell_type": "markdown",
   "id": "22294e94",
   "metadata": {},
   "source": []
  }
 ],
 "metadata": {
  "kernelspec": {
   "display_name": "Python 3",
   "language": "python",
   "name": "python3"
  },
  "language_info": {
   "codemirror_mode": {
    "name": "ipython",
    "version": 3
   },
   "file_extension": ".py",
   "mimetype": "text/x-python",
   "name": "python",
   "nbconvert_exporter": "python",
   "pygments_lexer": "ipython3",
   "version": "3.13.3"
  }
 },
 "nbformat": 4,
 "nbformat_minor": 5
}
