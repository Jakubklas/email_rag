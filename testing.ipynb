{
 "cells": [
  {
   "cell_type": "code",
   "execution_count": 9,
   "id": "e7c3b065",
   "metadata": {},
   "outputs": [],
   "source": [
    "\n",
    "from opensearchpy import OpenSearch, RequestsHttpConnection, helpers\n",
    "from opensearchpy.exceptions import TransportError, ConnectionError as OSCxnError\n",
    "\n",
    "from requests_aws4auth import AWS4Auth\n",
    "from openai import OpenAI, OpenAIError\n",
    "from config import *\n",
    "import time\n",
    "import logging\n",
    "\n",
    "from src.services.querying import llm_client, os_client, reconstruct_thread, answer_query, knn_search, Memory\n"
   ]
  },
  {
   "cell_type": "code",
   "execution_count": 10,
   "id": "7e9dbf9a",
   "metadata": {},
   "outputs": [],
   "source": [
    "# query = \"How much do we ususally charge for traspots for 'compassionate funerals'?\"\n",
    "\n",
    "# hits, ids, q_vec = knn_search(query)\n",
    "\n",
    "# for i , hit in enumerate(hits, start=1):\n",
    "#     print(f\"----Email thread {i}----\")\n",
    "#     print()\n",
    "#     print(f\"ID: {hit[\"_id\"]}\")\n",
    "#     print(f\"Score: {hit[\"_score\"]}\")\n",
    "#     print(f\"Subject: {hit[\"_source\"][\"subject\"]}\")\n",
    "#     print(f\"Summary: {hit[\"_source\"][\"summary_text\"]}\")\n",
    "#     print()"
   ]
  },
  {
   "cell_type": "code",
   "execution_count": 11,
   "id": "beea30f2",
   "metadata": {},
   "outputs": [],
   "source": [
    "retrieved_ids = []\n",
    "memory = Memory(\n",
    "    llm_client=llm_client,\n",
    "    os_client=os_client,\n",
    "    short_term_tokens=1000,\n",
    "    mid_term_turns=3,\n",
    "    memory_model=MEMORY_MODEL,\n",
    "    embeddings_model=EMBEDDINGS_MODEL\n",
    ")"
   ]
  },
  {
   "cell_type": "code",
   "execution_count": 19,
   "id": "821ab9ad",
   "metadata": {},
   "outputs": [
    {
     "name": "stdout",
     "output_type": "stream",
     "text": [
      "\n",
      "----Rewritted query-----\n",
      " What are the key steps involved in importing goods to the UK according to Redcoat Express Ltd's practices sourced from email threads? \n",
      "----Rewritted query-----\n",
      " \n"
     ]
    }
   ],
   "source": [
    "bank=[\n",
    " \"What how does Redcoat work with Lufthansa?\",\n",
    " \"Can you give specific examples?\",\n",
    " \"What are Lufthansa's rates to Africa?\",\n",
    " \"And what about other destinations, like US?\",\n",
    " \"Who is Simon and his role?\",\n",
    " \"How does he collaborate with Sarah Hawkins?\",\n",
    " \"Who else works there?\",\n",
    " \"If we were to compare US and African imports to the UK. How do they compare?\",\n",
    " \"Draft an SOP to import goods to the UK.\"\n",
    " ]\n",
    "\n",
    "query = bank[-1]\n",
    "#query = \"How do you know this information?\"\n",
    "retrieved_ids = []  \n",
    "\n",
    "prompt, response, mem_ctx, retrieved_ids, q_vec = answer_query(query, retrieved_ids=retrieved_ids, memory=memory)\n",
    "\n"
   ]
  },
  {
   "cell_type": "code",
   "execution_count": 20,
   "id": "c4e616f4",
   "metadata": {},
   "outputs": [
    {
     "name": "stdout",
     "output_type": "stream",
     "text": [
      "45463\n"
     ]
    }
   ],
   "source": [
    "import tiktoken\n",
    "\n",
    "enc = tiktoken.encoding_for_model(QUERY_MODEL)\n",
    "\n",
    "print(len(enc.encode(prompt)))"
   ]
  },
  {
   "cell_type": "code",
   "execution_count": 21,
   "id": "58d08336",
   "metadata": {},
   "outputs": [
    {
     "name": "stdout",
     "output_type": "stream",
     "text": [
      "To draft a Standard Operating Procedure (SOP) for importing goods into the UK, we will outline the necessary steps and documentation required based on the practices and information available from Redcoat Express Ltd. This SOP will ensure compliance with UK customs regulations and facilitate smooth import operations.\n",
      "\n",
      "### Standard Operating Procedure (SOP) for Importing Goods to the UK\n",
      "\n",
      "#### 1. **Objective**\n",
      "To establish a clear and efficient process for importing goods into the UK, ensuring compliance with customs regulations and minimizing delays.\n",
      "\n",
      "#### 2. **Scope**\n",
      "This SOP applies to all employees involved in the importation of goods to the UK through Redcoat Express Ltd.\n",
      "\n",
      "#### 3. **Responsibilities**\n",
      "- **Import Manager**: Oversee the import process and ensure compliance with regulations.\n",
      "- **Logistics Coordinator**: Manage shipping logistics and documentation.\n",
      "- **Customs Compliance Officer**: Ensure all customs documentation is accurate and submitted on time.\n",
      "\n",
      "#### 4. **Procedure**\n",
      "\n",
      "##### 4.1 **Pre-Import Preparation**\n",
      "1. **Supplier Selection**:\n",
      "   - Assess and select suppliers based on the Vendor Assessment Questionnaire to ensure they meet compliance standards.\n",
      "   - Maintain an approved vendor database.\n",
      "\n",
      "2. **Order Placement**:\n",
      "   - Place orders with selected suppliers, ensuring that all items are permissible for import into the UK.\n",
      "\n",
      "3. **Documentation Requirements**:\n",
      "   - Request the following documents from the supplier:\n",
      "     - Commercial Invoice (must include):\n",
      "       - Supplier’s headed paper with address and contact details.\n",
      "       - Consignee address and contact information.\n",
      "       - Description of goods.\n",
      "       - Value of goods and currency.\n",
      "     - Packing List.\n",
      "     - Any necessary certificates (e.g., health, safety, or quality certifications).\n",
      "\n",
      "##### 4.2 **Shipping and Customs Documentation**\n",
      "1. **Shipping Arrangements**:\n",
      "   - Coordinate with the logistics team to arrange shipping via the selected freight forwarder.\n",
      "   - Ensure that the shipping method (air, sea, or road) is appropriate for the goods being imported.\n",
      "\n",
      "2. **Customs Declaration**:\n",
      "   - Complete the customs declaration forms as required by HM Revenue & Customs (HMRC).\n",
      "   - Submit the following documents to customs:\n",
      "     - Commercial Invoice.\n",
      "     - Packing List.\n",
      "     - Airway Bill (AWB) or Bill of Lading.\n",
      "     - Any additional documentation required (e.g., ATA Carnet for temporary imports).\n",
      "\n",
      "3. **EORI Registration**:\n",
      "   - Ensure that Redcoat Express Ltd has a valid Economic Operators Registration and Identification (EORI) number for customs clearance.\n",
      "\n",
      "##### 4.3 **Customs Clearance Process**\n",
      "1. **Submission of Documentation**:\n",
      "   - Submit all required documentation to HMRC via the National Clearance Hub.\n",
      "   - Ensure that the submission is made promptly to avoid delays.\n",
      "\n",
      "2. **Payment of Duties and Taxes**:\n",
      "   - Calculate and pay any applicable customs duties, VAT, and handling fees.\n",
      "   - Keep records of all payments made for customs clearance.\n",
      "\n",
      "3. **Customs Inspection**:\n",
      "   - Be prepared for potential customs inspections. Ensure that all goods are properly labeled and documented for easy identification.\n",
      "\n",
      "##### 4.4 **Post-Import Procedures**\n",
      "1. **Receipt of Goods**:\n",
      "   - Upon arrival of goods, verify that the shipment matches the documentation.\n",
      "   - Inspect goods for any damage or discrepancies.\n",
      "\n",
      "2. **Record Keeping**:\n",
      "   - Maintain accurate records of all import transactions, including invoices, customs declarations, and payment receipts.\n",
      "   - Store documentation securely for future reference and compliance audits.\n",
      "\n",
      "3. **Feedback and Review**:\n",
      "   - After the import process is complete, review the procedure for any areas of improvement.\n",
      "   - Collect feedback from involved parties to enhance future import operations.\n",
      "\n",
      "#### 5. **Compliance and Review**\n",
      "- This SOP should be reviewed annually or whenever there are changes in customs regulations or company policies.\n",
      "- Ensure that all employees involved in the import process are trained on this SOP and understand their responsibilities.\n",
      "\n",
      "#### 6. **References**\n",
      "- HM Revenue & Customs guidelines on importing goods.\n",
      "- Redcoat Express Ltd internal policies and procedures.\n",
      "\n",
      "By following this SOP, Redcoat Express Ltd can ensure a streamlined and compliant process for importing goods into the UK, thereby meeting customer needs and regulatory requirements effectively.\n"
     ]
    }
   ],
   "source": [
    "#print(response)\n",
    "print(response)"
   ]
  },
  {
   "cell_type": "markdown",
   "id": "c55fdebf",
   "metadata": {},
   "source": [
    "Conditional Retrieval"
   ]
  },
  {
   "cell_type": "code",
   "execution_count": null,
   "id": "d32a337d",
   "metadata": {},
   "outputs": [],
   "source": []
  },
  {
   "cell_type": "markdown",
   "id": "22b79f4d",
   "metadata": {},
   "source": [
    "Cooldown TLL"
   ]
  },
  {
   "cell_type": "code",
   "execution_count": null,
   "id": "cb0031ee",
   "metadata": {},
   "outputs": [],
   "source": []
  },
  {
   "cell_type": "markdown",
   "id": "f83e4fce",
   "metadata": {},
   "source": [
    "Freshness Boosting"
   ]
  },
  {
   "cell_type": "code",
   "execution_count": null,
   "id": "ffa573a1",
   "metadata": {},
   "outputs": [],
   "source": []
  },
  {
   "cell_type": "markdown",
   "id": "3742ea61",
   "metadata": {},
   "source": [
    "MRR (Penalizing documents which are too similar to what we already have)"
   ]
  },
  {
   "cell_type": "code",
   "execution_count": null,
   "id": "cfd3975d",
   "metadata": {},
   "outputs": [],
   "source": []
  },
  {
   "cell_type": "markdown",
   "id": "717389a5",
   "metadata": {},
   "source": [
    "Hierarchical Memory"
   ]
  },
  {
   "cell_type": "code",
   "execution_count": null,
   "id": "0bb2839f",
   "metadata": {},
   "outputs": [],
   "source": []
  },
  {
   "cell_type": "markdown",
   "id": "22294e94",
   "metadata": {},
   "source": []
  }
 ],
 "metadata": {
  "kernelspec": {
   "display_name": "Python 3",
   "language": "python",
   "name": "python3"
  },
  "language_info": {
   "codemirror_mode": {
    "name": "ipython",
    "version": 3
   },
   "file_extension": ".py",
   "mimetype": "text/x-python",
   "name": "python",
   "nbconvert_exporter": "python",
   "pygments_lexer": "ipython3",
   "version": "3.13.3"
  }
 },
 "nbformat": 4,
 "nbformat_minor": 5
}
