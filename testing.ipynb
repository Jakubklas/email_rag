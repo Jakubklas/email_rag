{
 "cells": [
  {
   "cell_type": "code",
   "execution_count": 100,
   "id": "e7c3b065",
   "metadata": {},
   "outputs": [],
   "source": [
    "import os\n",
    "import json\n",
    "from opensearchpy import OpenSearch, RequestsHttpConnection, helpers\n",
    "import boto3\n",
    "from requests_aws4auth import AWS4Auth\n",
    "from openai import OpenAI\n",
    "from config import *"
   ]
  },
  {
   "cell_type": "code",
   "execution_count": 58,
   "id": "df78fbeb",
   "metadata": {},
   "outputs": [],
   "source": [
    "# ─── Configuration ──────────────────────────────────────────────────────────────\n",
    "DOMAIN = \"search-redcoat-express-wvba3hxtx72luhtzgh7tb56k4i.aos.eu-north-1.on.aws\"\n",
    "REGION = \"eu-north-1\"\n",
    "INDEX  = \"redcoat-express\"\n",
    "MASTER_USER        = \"admin\"              # the internal username you configured\n",
    "MASTER_PASSWORD    = \"ASINnumber1!\" # the password you set\n",
    "\n",
    "DATA_DIRS = [email_chunks_dir, attachment_chunks_dir, thread_documents_dir]"
   ]
  },
  {
   "cell_type": "markdown",
   "id": "f417bedb",
   "metadata": {},
   "source": [
    "Access over IAM (Switched Off)"
   ]
  },
  {
   "cell_type": "code",
   "execution_count": 59,
   "id": "38ef96f3",
   "metadata": {},
   "outputs": [],
   "source": [
    "# # Creating a session for a specific local user \"rag-admin-user\"\n",
    "# session = boto3.Session(profile_name=\"rag-admin-user\")\n",
    "\n",
    "# # Accessing STS to assume the role with the right permissions\"\n",
    "# sts = session.client(\"sts\")\n",
    "# response = sts.assume_role(\n",
    "#     RoleArn=\"arn:aws:iam::169189304433:role/RedcoatExpressRagAdmin\",\n",
    "#     RoleSessionName=\"OpenSearchUpload\"\n",
    "# )\n",
    "\n",
    "# # Extracting credentials from the session\n",
    "# credentials = response[\"Credentials\"]\n",
    "\n",
    "# # Passing credentials to AWSAUTH so we can authenticate to OpenSearch\n",
    "# awsauth = AWS4Auth(\n",
    "#     credentials[\"AccessKeyId\"],\n",
    "#     credentials[\"SecretAccessKey\"],\n",
    "#     REGION,\n",
    "#     \"es\",\n",
    "#     session_token=credentials[\"SessionToken\"]\n",
    "# )\n",
    "\n",
    "# # Creating OpenSearch client with A.) my created OpenSearch domain and B.) my AWSAUTH credentials\n",
    "# client = OpenSearch(\n",
    "#     hosts=[{\"host\": DOMAIN, \"port\": 443}],\n",
    "#     http_auth=awsauth,\n",
    "#     use_ssl=True,\n",
    "#     verify_certs=True,\n",
    "#     connection_class=RequestsHttpConnection\n",
    "# )\n",
    "\n",
    "# # Testing connection:\n",
    "# print(client.cat.indices(format=\"json\"))"
   ]
  },
  {
   "cell_type": "markdown",
   "id": "9b15542c",
   "metadata": {},
   "source": [
    "Access over OpenSearch Master User"
   ]
  },
  {
   "cell_type": "code",
   "execution_count": 73,
   "id": "611292ce",
   "metadata": {},
   "outputs": [
    {
     "name": "stdout",
     "output_type": "stream",
     "text": [
      "{'health': 'green', 'status': 'open', 'index': 'emails', 'uuid': '1ZqBbC-WSPyDglErajejBw', 'pri': '5', 'rep': '2', 'docs.count': '0', 'docs.deleted': '0', 'store.size': '25.3mb', 'pri.store.size': '8.4mb'}\n",
      "\n",
      "{'health': 'green', 'status': 'open', 'index': 'otel-v1-apm-service-map-sample', 'uuid': 'InKqxx9zRB-xtgzA46VoUQ', 'pri': '1', 'rep': '2', 'docs.count': '49', 'docs.deleted': '0', 'store.size': '52.9kb', 'pri.store.size': '17.6kb'}\n",
      "\n",
      "{'health': 'green', 'status': 'open', 'index': '.plugins-ml-model-group', 'uuid': 'GK4aZPJnTUGosjC69CfIyQ', 'pri': '1', 'rep': '2', 'docs.count': '0', 'docs.deleted': '0', 'store.size': '11.2kb', 'pri.store.size': '228b'}\n",
      "\n"
     ]
    }
   ],
   "source": [
    "\n",
    "client = OpenSearch(\n",
    "    hosts=[{\"host\": DOMAIN, \"port\": 443}],\n",
    "    http_auth=(MASTER_USER, MASTER_PASSWORD),\n",
    "    use_ssl=True,\n",
    "    verify_certs=True,\n",
    "    connection_class=RequestsHttpConnection\n",
    ")\n",
    "\n",
    "# Test it:\n",
    "indecies = client.cat.indices(format=\"json\")\n",
    "for i in indecies[:3]:\n",
    "    print(i)\n",
    "    print()\n"
   ]
  },
  {
   "cell_type": "code",
   "execution_count": 68,
   "id": "2c4e2387",
   "metadata": {},
   "outputs": [
    {
     "name": "stdout",
     "output_type": "stream",
     "text": [
      "[INFO] creating index 'emails'\n"
     ]
    }
   ],
   "source": [
    "if not client.indices.exists(INDEX_NAME):\n",
    "    print(f\"[INFO] creating index {INDEX_NAME!r}\")\n",
    "    mapping = {\n",
    "        \"settings\": {\"index\": {\"knn\": True}},\n",
    "        \"mappings\": {\n",
    "            \"dynamic\": True,\n",
    "            \"properties\": {\n",
    "                \"thread_id\":   {\"type\": \"keyword\"},\n",
    "                \"embedding\":   {\"type\": \"knn_vector\", \"dimension\": 1536},\n",
    "                \"type\":        {\"type\": \"keyword\"},\n",
    "                \"date\":        {\"type\": \"date\"},\n",
    "                \"subject\":     {\"type\": \"text\"},\n",
    "                \"chunk_text\":  {\"type\": \"text\"},\n",
    "                \"summary_text\":{\"type\": \"text\"},\n",
    "                \"participants\":{\"type\": \"keyword\"}\n",
    "            }\n",
    "        }\n",
    "    }\n",
    "    client.indices.create(INDEX_NAME, body=mapping)"
   ]
  },
  {
   "cell_type": "markdown",
   "id": "5b8c3742",
   "metadata": {},
   "source": [
    "Uploading Emails to Index"
   ]
  },
  {
   "cell_type": "code",
   "execution_count": null,
   "id": "cb8a69dc",
   "metadata": {},
   "outputs": [
    {
     "name": "stdout",
     "output_type": "stream",
     "text": [
      "[INFO] Documents ready to index\n",
      "[INFO] 0/363 uploaded.\n",
      "[INFO] 20/363 uploaded.\n",
      "[INFO] 40/363 uploaded.\n",
      "[INFO] 60/363 uploaded.\n",
      "[INFO] 80/363 uploaded.\n",
      "[INFO] 100/363 uploaded.\n",
      "[INFO] 120/363 uploaded.\n",
      "[INFO] 140/363 uploaded.\n",
      "[INFO] 160/363 uploaded.\n",
      "[INFO] 180/363 uploaded.\n",
      "[INFO] 200/363 uploaded.\n",
      "[INFO] 220/363 uploaded.\n",
      "[INFO] 240/363 uploaded.\n",
      "[INFO] 260/363 uploaded.\n",
      "[INFO] 280/363 uploaded.\n",
      "[INFO] 300/363 uploaded.\n",
      "[INFO] 320/363 uploaded.\n",
      "[INFO] 340/363 uploaded.\n",
      "[INFO] 360/363 uploaded.\n",
      "[DONE ] Finished indexing: 363/363 succeeded - 100.0%\n"
     ]
    }
   ],
   "source": [
    "\n",
    "def actionas_generator():\n",
    "    for directory in DATA_DIRS:\n",
    "        for filename in os.listdir(directory):\n",
    "            if not filename.endswith(\".json\"):\n",
    "                continue\n",
    "            path = os.path.join(directory, filename)\n",
    "            with open(path, \"r\", encoding=\"utf-8\") as f:\n",
    "                doc = json.load(f)\n",
    "            yield {\n",
    "                \"_index\":  INDEX_NAME,\n",
    "                \"_id\":     doc.get(\"thread_id\", filename),\n",
    "                \"_source\": doc\n",
    "                }\n",
    "\n",
    "\n",
    "print(f\"[INFO] Documents ready to index\")\n",
    "total = 0\n",
    "for i in DATA_DIRS:\n",
    "    total += len(os.listdir(i))\n",
    "\n",
    "success = 0\n",
    "for idx, (ok, result) in enumerate(\n",
    "    helpers.streaming_bulk(\n",
    "        client,\n",
    "        actionas_generator(),\n",
    "        chunk_size=100,           # smaller batches\n",
    "        request_timeout=60,       # give it a minute per request\n",
    "        max_retries=2,\n",
    "        initial_backoff=2,\n",
    "        max_backoff=10,\n",
    "        yield_ok=True\n",
    "        )\n",
    "    ):\n",
    "    if ok:\n",
    "        success += 1\n",
    "    else:\n",
    "        # result looks like {\"index\": {\"_id\": \"...\", \"error\": {...}}}\n",
    "        print(f\"[ERROR] Doc #{idx} failed to index:\", result)\n",
    "\n",
    "    if idx % verbosity == 0:\n",
    "        print(f\"[INFO] {idx}/{total} uploaded -> {round(success/total*100, 0)}%\")\n",
    "\n",
    "print(f\"[DONE ] Finished indexing: {success}/{total} succeeded -> {round(success/total*100, 0)}%\")"
   ]
  },
  {
   "cell_type": "code",
   "execution_count": 106,
   "id": "604af978",
   "metadata": {},
   "outputs": [
    {
     "name": "stdout",
     "output_type": "stream",
     "text": [
      "— ID: 20250507150541.143824d4b@unknown, type: thread\n",
      "  text: James from Right Freight, a logistics company, introduces their flexible shipping solutions and provides current ocean freight rates from various Chinese ports to London and Southampton, valid from May 12 to May 31, 2025. He invites recipients to contact him for further information or to discuss shipping needs from other Asian countries.\n",
      "  embedding length: 1536\n",
      "\n",
      "— ID: 1ee4b8e9-0a17-4090-be9a-db82934a13b9@alibaba.com, type: thread\n",
      "  text: Mr. Kerwin Li from AAA China Limited provided updated special shipping rates from various Chinese ports to the UK, valid from May 15 to May 30, and requested feedback on the offers. He also included contact information and an option to unsubscribe from future promotional emails.\n",
      "  embedding length: 1536\n",
      "\n",
      "— ID: am6pr0602mb3591dc50c95d4e1045682895db97a@am6pr0602mb3591.eurprd06.prod.outlook.com, type: thread\n",
      "  text: Kiran Parmar from ShearGold Ltd requested a sea freight rate for shipping gym equipment from the UK to Banjul Port, The Gambia. The recipient acknowledged the request and later provided a quotation of GBP2600 for a 20-foot container and GBP3500 for a 40-foot container, with additional charges for extended loading times and extra HS commodity codes.\n",
      "  embedding length: 1536\n",
      "\n",
      "— ID: 097101dbc000$3d63df50$b82b9df0$@vittcc.com, type: thread\n",
      "  text: Fiona from Forturn Supply Chain Limited introduces herself as the person in charge of handling business for Shanghai and Ningbo ports, highlighting her experience and the company's credentials. She shares the best shipping rates from China to the EU for May, along with details on available space, free time, and cargo restrictions, and offers free shipping liability insurance if MSK's space reservation is successful.\n",
      "  embedding length: 1536\n",
      "\n",
      "— ID: cano0s0yrh-sit04opd_w7dacp84hl2vf8xdjvwliy7vuwo6ypw@mail.gmail.com, type: thread\n",
      "  text: Jason Leadbeatter from Redcoat Express requested instructions for two attached commercial invoices. The first attachment, CI_10S-INV-0071142, details a shipment of digital control interface units to the Italian and German Air Forces, while the second attachment, CI_10S-INV-0071159, outlines a shipment to the Royal Saudi and Oman Air Forces. Both documents include export control statements and shipping details.\n",
      "  embedding length: 1536\n",
      "\n",
      "— ID: calt2vexagr1yc8h8hhbnku4yed4vjmmljgwvi2dvfkvu6an0jq@mail.gmail.com, type: thread\n",
      "  text: Georges inquired if Mercury Chloride (UN 1624 class 6.1 Packing Group II) could be shipped by sea, to which Simon responded that he saw no issue but needed confirmation from the shipping line and asked about the quantity. Georges was unsure about the quantity, and Simon later provided additional information, including an image, which Georges acknowledged with thanks.\n",
      "  embedding length: 1536\n",
      "\n"
     ]
    }
   ],
   "source": [
    "# Connect to OpenSearch\n",
    "client = OpenSearch(\n",
    "    hosts=[{\"host\": DOMAIN, \"port\": 443}],\n",
    "    http_auth=(MASTER_USER, MASTER_PASSWORD),\n",
    "    use_ssl=True,\n",
    "    verify_certs=True,\n",
    "    connection_class=RequestsHttpConnection\n",
    ")\n",
    "\n",
    "\n",
    "def inspect_index(client):\n",
    "    \n",
    "    # Searching the index w/ max 5 results\n",
    "    resp = client.search(\n",
    "    index=INDEX_NAME,\n",
    "    body={                                          # Returns up to 5 documents matching the keyword\n",
    "            \"size\": 10,\n",
    "            \"query\": { \n",
    "                \"match_phrase\": {\n",
    "                    \"summary_text\": \"shipping\"\n",
    "                }\n",
    "            }\n",
    "        }\n",
    "    )\n",
    "\n",
    "    # Print them out one by one (\"hit\" being when we find a match)\n",
    "    for hit in resp[\"hits\"][\"hits\"]:\n",
    "        src = hit[\"_source\"]\n",
    "        print(f\"— ID: {hit['_id']}, type: {src['type']}\")\n",
    "        # print either the chunk_text or summary_text\n",
    "        text = src.get(\"chunk_text\") or src.get(\"summary_text\")\n",
    "        print(\"  text:\", text.replace(\"\\n\",\" \"))\n",
    "        print(\"  embedding length:\", len(src[\"embedding\"]))\n",
    "        print()\n",
    "\n",
    "inspect_index(client)\n"
   ]
  },
  {
   "cell_type": "code",
   "execution_count": 116,
   "id": "32cbf964",
   "metadata": {},
   "outputs": [],
   "source": [
    "def keyword_search(text, field=\"summary_text\", size=5):\n",
    "    body = {\n",
    "      \"size\": size,\n",
    "      \"query\": { \"match\": { field: text }}\n",
    "    }\n",
    "    return client.search(index=INDEX_NAME, body=body)[\"hits\"][\"hits\"]\n",
    "\n",
    "def knn_search(query_text, size=5):\n",
    "    llm_client = OpenAI(api_key=SECRET_KEY)\n",
    "\n",
    "    q_vec = llm_client.embeddings.create(\n",
    "        model=\"text-embedding-ada-002\", input=query_text\n",
    "    ).data[0].embedding\n",
    "\n",
    "    body = {\n",
    "      \"size\": size,\n",
    "      \"query\": {\n",
    "        \"knn\": {\n",
    "          \"embedding\": { \"vector\": q_vec, \"k\": size }\n",
    "        }\n",
    "      }\n",
    "    }\n",
    "    return client.search(index=INDEX_NAME, body=body)[\"hits\"][\"hits\"]\n"
   ]
  },
  {
   "cell_type": "code",
   "execution_count": 132,
   "id": "eb9966a6",
   "metadata": {},
   "outputs": [
    {
     "name": "stdout",
     "output_type": "stream",
     "text": [
      "type: thread\n",
      "thread_id: lo0p123mb66690fa6db7e7f062a866919ae8aa@lo0p123mb6669.gbrp123.prod.outlook.com\n",
      "subject: Pre alert SN203/12 MAY\n",
      "participants: ['Sarah Hawkins <sarah@redcoat.org.uk>', 'lgwexports <lgwexports@redcoat.org.uk> <lgwexports@redcoat.org.uk>', 'Halimatou Bah <halimatou.bah@redcoat.org.uk>', \"'DHL Express' via bjlexports <bjlexports@redcoat.org.uk>\"]\n",
      "first_date: 2025-05-09T11:20:07+00:00\n",
      "last_date: 2025-05-09T11:20:07+00:00\n",
      "summary_text: Sarah Hawkins from Redcoat Express Ltd sent an email with an attached pre-alert document, which appears to be an Air Waybill detailing the shipment of goods, including terms of carriage and insurance options. The document specifies that the goods are accepted in good order and condition, subject to the conditions of the contract, and includes information about the shipment's routing, destination, and handling instructions.\n"
     ]
    }
   ],
   "source": [
    "text = \"Who is Sarah Hawkins?\"\n",
    "search = keyword_search(text)[0][\"_source\"]\n",
    "search = knn_search(text)[0][\"_source\"]\n",
    "\n",
    "for i in search:\n",
    "    if i == \"embedding\":\n",
    "        continue\n",
    "    print(f\"{i}: {search[i]}\")"
   ]
  },
  {
   "cell_type": "code",
   "execution_count": null,
   "id": "d040766e",
   "metadata": {},
   "outputs": [],
   "source": []
  }
 ],
 "metadata": {
  "kernelspec": {
   "display_name": "Python 3",
   "language": "python",
   "name": "python3"
  },
  "language_info": {
   "codemirror_mode": {
    "name": "ipython",
    "version": 3
   },
   "file_extension": ".py",
   "mimetype": "text/x-python",
   "name": "python",
   "nbconvert_exporter": "python",
   "pygments_lexer": "ipython3",
   "version": "3.13.3"
  }
 },
 "nbformat": 4,
 "nbformat_minor": 5
}
